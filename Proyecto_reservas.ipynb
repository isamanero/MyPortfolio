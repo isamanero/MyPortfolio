{
 "cells": [
  {
   "cell_type": "markdown",
   "metadata": {},
   "source": [
    "Generar un sistema de reserva de mesas de un restaurante:\n",
    "\n",
    "- Tengo X plazas para comer, y según van reservando sigue habiendo hueco, pero si se acaba, sale un mensaje de que ya no tienes mesa disponible.\n",
    "-Next step: Hacerlo por mesas de 2,4 y 6\n",
    "            - Introducir día de Lunes a viernes, y hora: comer o o cenar.\n",
    "\n",
    "\n",
    "\n",
    "\n"
   ]
  },
  {
   "cell_type": "code",
   "execution_count": null,
   "metadata": {},
   "outputs": [],
   "source": [
    "plazas_restaurante = 20"
   ]
  },
  {
   "cell_type": "code",
   "execution_count": null,
   "metadata": {},
   "outputs": [],
   "source": [
    "plazas_restaurante = 20  \n",
    "\n",
    "while plazas_restaurante > 0:\n",
    "     \n",
    "    try:\n",
    "        reserva = int(input(f\"Quedan {plazas_restaurante} plazas. ¿Cuántos sois? (0 para salir): \"))\n",
    "\n",
    "        if reserva > plazas_restaurante:\n",
    "            print(\"Lo sentimos, no hay suficientes plazas disponibles.\")\n",
    "        else:\n",
    "            plazas_restaurante -= reserva\n",
    "            print(f\"Reserva confirmada para {reserva} personas. Plazas restantes: {plazas_restaurante}\")\n",
    "\n",
    "    except ValueError:\n",
    "        print(\"Por favor, introduce un número válido.\")\n",
    "\n",
    "print(\"El restaurante está lleno\")\n"
   ]
  },
  {
   "cell_type": "code",
   "execution_count": null,
   "metadata": {},
   "outputs": [],
   "source": [
    "# Introducir que sea de Lunes a viernes"
   ]
  },
  {
   "cell_type": "code",
   "execution_count": null,
   "metadata": {},
   "outputs": [],
   "source": [
    "# Diccionario para gestionar la disponibilidad por día\n",
    "plazas_restaurante = {\"lunes\": 20, \"martes\": 20, \"miércoles\": 20, \"jueves\": 20,\n",
    "    \"viernes\": 20, \"sábado\": 30, \"domingo\": 30}\n",
    "\n",
    "while True:\n",
    "    print(\"\\nDías disponibles para reservar:\", \", \".join(plazas_restaurante.keys()))\n",
    "    dia = input(\"¿Para qué día deseas reservar?: \").strip().lower() #strip para espacios en blanco, lower para minusculas\n",
    "\n",
    "    if dia not in plazas_restaurante:\n",
    "        print(\"Día inválido. Inténtalo de nuevo.\")\n",
    "        continue\n",
    "\n",
    "    try:\n",
    "        reserva = int(input(f\"Quedan {plazas_restaurante[dia]} plazas para {dia}. ¿Cuántos sois? \"))\n",
    "        if reserva > plazas_restaurante[dia]:\n",
    "            print(\"Lo sentimos, no hay suficientes plazas disponibles para ese día.\")\n",
    "        else:\n",
    "            plazas_restaurante[dia] -= reserva\n",
    "            print(f\"Reserva confirmada para {reserva} personas el {dia}. Plazas restantes: {plazas_restaurante[dia]}\")\n",
    "            print(\"¡Gracias!\")\n",
    "            break  # Salir del programa después de una reserva exitosa\n",
    "\n",
    "    except ValueError:\n",
    "        print(\"Por favor, introduce un número válido.\")\n",
    "\n",
    "\n"
   ]
  },
  {
   "cell_type": "code",
   "execution_count": null,
   "metadata": {},
   "outputs": [],
   "source": [
    "# Intorudcir si quiere comer o cenar"
   ]
  },
  {
   "cell_type": "code",
   "execution_count": null,
   "metadata": {},
   "outputs": [
    {
     "name": "stdout",
     "output_type": "stream",
     "text": [
      "\n",
      "Días disponibles para reservar: lunes, martes, miércoles, jueves, viernes, sábado, domingo\n",
      "Lo sentimos, no hay suficientes plazas disponibles para ese turno.\n",
      "\n",
      "Días disponibles para reservar: lunes, martes, miércoles, jueves, viernes, sábado, domingo\n",
      "Día inválido. Inténtalo de nuevo.\n",
      "\n",
      "Días disponibles para reservar: lunes, martes, miércoles, jueves, viernes, sábado, domingo\n",
      "Día inválido. Inténtalo de nuevo.\n",
      "\n",
      "Días disponibles para reservar: lunes, martes, miércoles, jueves, viernes, sábado, domingo\n",
      "Día inválido. Inténtalo de nuevo.\n",
      "\n",
      "Días disponibles para reservar: lunes, martes, miércoles, jueves, viernes, sábado, domingo\n",
      "Día inválido. Inténtalo de nuevo.\n",
      "\n",
      "Días disponibles para reservar: lunes, martes, miércoles, jueves, viernes, sábado, domingo\n",
      "Día inválido. Inténtalo de nuevo.\n",
      "\n",
      "Días disponibles para reservar: lunes, martes, miércoles, jueves, viernes, sábado, domingo\n",
      "Reserva confirmada para 5 personas el sábado en el turno de cena.\n",
      "Saliendo del sistema de reservas. ¡Gracias!\n"
     ]
    }
   ],
   "source": [
    "# Diccionario con la disponibilidad de plazas para comida y cena cada día\n",
    "plazas_restaurante = {\n",
    "    \"lunes\": {\"comida\": 20, \"cena\": 20},\n",
    "    \"martes\": {\"comida\": 20, \"cena\": 20},\n",
    "    \"miercoles\": {\"comida\": 20, \"cena\": 20},\n",
    "    \"jueves\": {\"comida\": 20, \"cena\": 20},\n",
    "    \"viernes\": {\"comida\": 20, \"cena\": 20},\n",
    "    \"sabado\": {\"comida\": 20, \"cena\": 20},\n",
    "    \"domingo\": {\"comida\": 20, \"cena\": 20}\n",
    "}\n",
    "\n",
    "while True:\n",
    "    print(\"\\nDías disponibles para reservar:\", \", \".join(plazas_restaurante.keys()))\n",
    "    dia = input(\"¿Para qué día deseas reservar? (Escribe 'salir' para finalizar): \").strip().lower()\n",
    "\n",
    "    if dia == \"salir\":\n",
    "        print(\"Saliendo del sistema de reservas. ¡Gracias!\")\n",
    "        break\n",
    "\n",
    "    if dia not in plazas_restaurante:\n",
    "        print(\"Día inválido. Inténtalo de nuevo.\")\n",
    "        continue\n",
    "\n",
    "    # Elegir comida o cena\n",
    "    turno_input = input(\"¿Quieres reservar para comer o cenar? (Escribe 'comer' o 'cenar'): \").strip().lower()\n",
    "    \n",
    "    if turno_input == \"comer\":\n",
    "        turno = \"comida\"\n",
    "        es_comida = True  # Booleano True si es comida\n",
    "    elif turno_input == \"cenar\":\n",
    "        turno = \"cena\"\n",
    "        es_comida = False  # Booleano False si es cena\n",
    "    else:\n",
    "        print(\"Opción inválida. Por favor, escribe 'comer' o 'cenar'.\")\n",
    "        continue\n",
    "\n",
    "    try:\n",
    "        reserva = int(input(f\"Quedan {plazas_restaurante[dia][turno]} plazas para {turno} el {dia}. ¿Cuántos sois? \"))\n",
    "\n",
    "        if reserva <= 0:\n",
    "            print(\"El número de personas debe ser mayor que 0.\")\n",
    "        elif reserva > plazas_restaurante[dia][turno]:\n",
    "            print(\"Lo sentimos, no hay suficientes plazas disponibles para ese turno.\")\n",
    "        else:\n",
    "            plazas_restaurante[dia][turno] -= reserva\n",
    "            print(f\"Reserva confirmada para {reserva} personas el {dia} en el turno de {'comida' if es_comida else 'cena'}.\")\n",
    "            print(\"Saliendo del sistema de reservas. ¡Gracias!\")\n",
    "            break  # Salir del programa después de una reserva exitosa\n",
    "\n",
    "    except ValueError:\n",
    "        print(\"Por favor, introduce un número válido.\")\n",
    "\n",
    "\n",
    "\n",
    "\n"
   ]
  },
  {
   "cell_type": "markdown",
   "metadata": {},
   "source": [
    "EN BASE A ESTAS FUNCIONES, ESTARÍA GUAY CREAR ALGO PARECIDO AL EJERCICIO DE MODULO 1: CON UNA CAFETERÍA\n",
    "- Sistema de reservas\n",
    "- Tener una carta de productos dónde poder:\n",
    "1--Agregar platos nuevos a carta\n",
    "2--Ver la carta\n",
    "3--Modificar precios en carta\n",
    "4--Actualizar menú del día tipo bar.menu(lunes). y luego bar.vercarta y que salga el menú actualizado\n",
    "5--Carta de Vinos\n",
    "6--Carta de postres\n",
    "7--Hacer pedido (que vaya sumando los precios)--> Salga la cuenta"
   ]
  },
  {
   "cell_type": "code",
   "execution_count": 1,
   "metadata": {},
   "outputs": [],
   "source": [
    "class BarGuiness:\n",
    "\n",
    "    def __init__(self, carta, ventas_totales):\n",
    "        self.carta = [{\"plato\": \"tortilla de patata\", \"precio\": 12 , \"racion\": 40}]\n",
    "        self.ventas_totales = ventas_totales\n",
    "\n",
    "    # Primera herramienta: Agregar nuevos productos a la carta\n",
    "    def agregar_productos(self, nombre, precio, racion):\n",
    "        # Check if product already exists in the menu\n",
    "        for i in self.carta:\n",
    "            if i[\"plato\"] == nombre:\n",
    "                print(f\"{nombre} está en la carta, tenemos {racion} raciones 🖊️\")\n",
    "                return  # Exit the function if the product is already in the menu\n",
    "        # If product does not exist, add it to the menu\n",
    "        producto = {\"plato\": nombre, \"precio\": precio, \"racion\": racion}\n",
    "        self.carta.append(producto)\n",
    "        print(f\"No existe {nombre} en la carta. Añadido!👌\")\n",
    "\n",
    "    # Segunda herramienta: Ver la carta y sus precios\n",
    "\n",
    "    def ver_carta(self):\n",
    "\n",
    "        print(\"Carta de comidas - Bar Guiness\")\n",
    "\n",
    "        for producto in self.carta:\n",
    "            print(f\"🔸Nombre: {producto['plato']}_______________Precio: {producto['precio']}\")\n",
    "\n",
    "    # Tercera herramienta: Modificar precios en carta\n",
    "\n",
    "def cambiar_precio(self, nombre, precio):\n",
    "    for i in self.carta:  # Use self.carta instead of self.inventario\n",
    "        if i[\"plato\"] == nombre:\n",
    "            i[\"precio\"] = precio\n",
    "            print(f\"Se ha actualizado el precio para {nombre} y ahora tiene un precio de {precio}\")\n",
    "            return  # Exit the function after updating the price\n",
    "    print(f\"No existe el producto a actualizar 🚫, tendrás que añadirlo al stock\")\n",
    "\n"
   ]
  },
  {
   "cell_type": "code",
   "execution_count": 2,
   "metadata": {},
   "outputs": [],
   "source": [
    "bar = BarGuiness([],0)"
   ]
  },
  {
   "cell_type": "code",
   "execution_count": 3,
   "metadata": {},
   "outputs": [
    {
     "name": "stdout",
     "output_type": "stream",
     "text": [
      "tortilla de patata está en la carta, tenemos 40 raciones 🖊️\n"
     ]
    }
   ],
   "source": [
    "bar.agregar_productos(\"tortilla de patata\",\"12€\",40)"
   ]
  },
  {
   "cell_type": "code",
   "execution_count": 4,
   "metadata": {},
   "outputs": [
    {
     "name": "stdout",
     "output_type": "stream",
     "text": [
      "No existe calamares en la carta. Añadido!👌\n"
     ]
    }
   ],
   "source": [
    "bar.agregar_productos(\"calamares\",\"15€\",30)"
   ]
  },
  {
   "cell_type": "code",
   "execution_count": 5,
   "metadata": {},
   "outputs": [
    {
     "name": "stdout",
     "output_type": "stream",
     "text": [
      "Carta de comidas - Bar Guiness\n",
      "🔸Nombre: tortilla de patata_______________Precio: 12\n",
      "🔸Nombre: calamares_______________Precio: 15€\n"
     ]
    }
   ],
   "source": [
    "bar.ver_carta()"
   ]
  },
  {
   "cell_type": "code",
   "execution_count": 37,
   "metadata": {},
   "outputs": [
    {
     "ename": "AttributeError",
     "evalue": "'BarGuiness' object has no attribute 'cambiar_precio'",
     "output_type": "error",
     "traceback": [
      "\u001b[1;31m---------------------------------------------------------------------------\u001b[0m",
      "\u001b[1;31mAttributeError\u001b[0m                            Traceback (most recent call last)",
      "Cell \u001b[1;32mIn[37], line 1\u001b[0m\n\u001b[1;32m----> 1\u001b[0m \u001b[43mbar\u001b[49m\u001b[38;5;241;43m.\u001b[39;49m\u001b[43mcambiar_precio\u001b[49m(\u001b[38;5;124m\"\u001b[39m\u001b[38;5;124mcalamares\u001b[39m\u001b[38;5;124m\"\u001b[39m,\u001b[38;5;124m\"\u001b[39m\u001b[38;5;124m16€\u001b[39m\u001b[38;5;124m\"\u001b[39m)\n",
      "\u001b[1;31mAttributeError\u001b[0m: 'BarGuiness' object has no attribute 'cambiar_precio'"
     ]
    }
   ],
   "source": [
    "bar.cambiar_precio(\"calamares\",\"16€\")"
   ]
  }
 ],
 "metadata": {
  "kernelspec": {
   "display_name": "Python 3",
   "language": "python",
   "name": "python3"
  },
  "language_info": {
   "codemirror_mode": {
    "name": "ipython",
    "version": 3
   },
   "file_extension": ".py",
   "mimetype": "text/x-python",
   "name": "python",
   "nbconvert_exporter": "python",
   "pygments_lexer": "ipython3",
   "version": "3.12.7"
  }
 },
 "nbformat": 4,
 "nbformat_minor": 2
}
