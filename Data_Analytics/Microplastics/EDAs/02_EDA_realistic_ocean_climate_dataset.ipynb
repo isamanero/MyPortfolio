{
 "cells": [
  {
   "cell_type": "markdown",
   "id": "47f43a98",
   "metadata": {},
   "source": [
    "# EDA Marine arrecife 🪸"
   ]
  },
  {
   "cell_type": "markdown",
   "id": "181370b2",
   "metadata": {},
   "source": [
    "## Importación de librerías y datos 📁"
   ]
  },
  {
   "cell_type": "code",
   "execution_count": 1,
   "id": "0f49cbff",
   "metadata": {},
   "outputs": [],
   "source": [
    "# Tratamiento de datos\n",
    "# -----------------------------------------------------------------------\n",
    "import pandas as pd\n",
    "import numpy as np\n",
    "\n",
    "# Imputación de nulos usando métodos avanzados estadísticos\n",
    "# -----------------------------------------------------------------------\n",
    "from sklearn.impute import SimpleImputer\n",
    "from sklearn.experimental import enable_iterative_imputer\n",
    "from sklearn.impute import IterativeImputer\n",
    "from sklearn.impute import KNNImputer\n",
    "\n",
    "# Librerías de visualización\n",
    "# -----------------------------------------------------------------------\n",
    "import seaborn as sns\n",
    "import matplotlib.pyplot as plt\n",
    "# Configuración\n",
    "# -----------------------------------------------------------------------\n",
    "pd.set_option('display.max_columns', None) # para poder visualizar todas las columnas de los DataFrames"
   ]
  },
  {
   "cell_type": "code",
   "execution_count": null,
   "id": "4e83e257",
   "metadata": {},
   "outputs": [],
   "source": [
    "df_coral = pd.read_csv('../files/transition_files/Arrecife/realistic_ocean_climate_dataset.csv')"
   ]
  },
  {
   "cell_type": "markdown",
   "id": "ba43a315",
   "metadata": {},
   "source": [
    "## Primera exploración 🔎"
   ]
  },
  {
   "cell_type": "code",
   "execution_count": 4,
   "id": "6a09b099",
   "metadata": {},
   "outputs": [
    {
     "data": {
      "text/html": [
       "<div>\n",
       "<style scoped>\n",
       "    .dataframe tbody tr th:only-of-type {\n",
       "        vertical-align: middle;\n",
       "    }\n",
       "\n",
       "    .dataframe tbody tr th {\n",
       "        vertical-align: top;\n",
       "    }\n",
       "\n",
       "    .dataframe thead th {\n",
       "        text-align: right;\n",
       "    }\n",
       "</style>\n",
       "<table border=\"1\" class=\"dataframe\">\n",
       "  <thead>\n",
       "    <tr style=\"text-align: right;\">\n",
       "      <th></th>\n",
       "      <th>Date</th>\n",
       "      <th>Location</th>\n",
       "      <th>Latitude</th>\n",
       "      <th>Longitude</th>\n",
       "      <th>SST (°C)</th>\n",
       "      <th>pH Level</th>\n",
       "      <th>Bleaching Severity</th>\n",
       "      <th>Species Observed</th>\n",
       "      <th>Marine Heatwave</th>\n",
       "    </tr>\n",
       "  </thead>\n",
       "  <tbody>\n",
       "    <tr>\n",
       "      <th>0</th>\n",
       "      <td>2015-01-01</td>\n",
       "      <td>Red Sea</td>\n",
       "      <td>20.0248</td>\n",
       "      <td>38.4931</td>\n",
       "      <td>29.47</td>\n",
       "      <td>8.107</td>\n",
       "      <td>NaN</td>\n",
       "      <td>106</td>\n",
       "      <td>False</td>\n",
       "    </tr>\n",
       "    <tr>\n",
       "      <th>1</th>\n",
       "      <td>2015-01-07</td>\n",
       "      <td>Great Barrier Reef</td>\n",
       "      <td>-18.2988</td>\n",
       "      <td>147.7782</td>\n",
       "      <td>29.65</td>\n",
       "      <td>8.004</td>\n",
       "      <td>High</td>\n",
       "      <td>116</td>\n",
       "      <td>False</td>\n",
       "    </tr>\n",
       "    <tr>\n",
       "      <th>2</th>\n",
       "      <td>2015-01-14</td>\n",
       "      <td>Caribbean Sea</td>\n",
       "      <td>14.9768</td>\n",
       "      <td>-75.0233</td>\n",
       "      <td>28.86</td>\n",
       "      <td>7.947</td>\n",
       "      <td>High</td>\n",
       "      <td>90</td>\n",
       "      <td>False</td>\n",
       "    </tr>\n",
       "    <tr>\n",
       "      <th>3</th>\n",
       "      <td>2015-01-20</td>\n",
       "      <td>Great Barrier Reef</td>\n",
       "      <td>-18.3152</td>\n",
       "      <td>147.6486</td>\n",
       "      <td>28.97</td>\n",
       "      <td>7.995</td>\n",
       "      <td>Medium</td>\n",
       "      <td>94</td>\n",
       "      <td>False</td>\n",
       "    </tr>\n",
       "    <tr>\n",
       "      <th>4</th>\n",
       "      <td>2015-01-27</td>\n",
       "      <td>Galápagos</td>\n",
       "      <td>-0.8805</td>\n",
       "      <td>-90.9769</td>\n",
       "      <td>28.60</td>\n",
       "      <td>7.977</td>\n",
       "      <td>NaN</td>\n",
       "      <td>110</td>\n",
       "      <td>False</td>\n",
       "    </tr>\n",
       "    <tr>\n",
       "      <th>...</th>\n",
       "      <td>...</td>\n",
       "      <td>...</td>\n",
       "      <td>...</td>\n",
       "      <td>...</td>\n",
       "      <td>...</td>\n",
       "      <td>...</td>\n",
       "      <td>...</td>\n",
       "      <td>...</td>\n",
       "      <td>...</td>\n",
       "    </tr>\n",
       "    <tr>\n",
       "      <th>495</th>\n",
       "      <td>2023-12-04</td>\n",
       "      <td>Galápagos</td>\n",
       "      <td>-0.9177</td>\n",
       "      <td>-90.9771</td>\n",
       "      <td>30.68</td>\n",
       "      <td>7.939</td>\n",
       "      <td>Medium</td>\n",
       "      <td>108</td>\n",
       "      <td>True</td>\n",
       "    </tr>\n",
       "    <tr>\n",
       "      <th>496</th>\n",
       "      <td>2023-12-11</td>\n",
       "      <td>Maldives</td>\n",
       "      <td>3.1725</td>\n",
       "      <td>73.3067</td>\n",
       "      <td>31.49</td>\n",
       "      <td>7.952</td>\n",
       "      <td>Medium</td>\n",
       "      <td>81</td>\n",
       "      <td>True</td>\n",
       "    </tr>\n",
       "    <tr>\n",
       "      <th>497</th>\n",
       "      <td>2023-12-17</td>\n",
       "      <td>Caribbean Sea</td>\n",
       "      <td>15.0430</td>\n",
       "      <td>-75.0194</td>\n",
       "      <td>28.43</td>\n",
       "      <td>8.053</td>\n",
       "      <td>Low</td>\n",
       "      <td>91</td>\n",
       "      <td>False</td>\n",
       "    </tr>\n",
       "    <tr>\n",
       "      <th>498</th>\n",
       "      <td>2023-12-24</td>\n",
       "      <td>Red Sea</td>\n",
       "      <td>19.9993</td>\n",
       "      <td>38.4655</td>\n",
       "      <td>27.76</td>\n",
       "      <td>8.137</td>\n",
       "      <td>Medium</td>\n",
       "      <td>108</td>\n",
       "      <td>False</td>\n",
       "    </tr>\n",
       "    <tr>\n",
       "      <th>499</th>\n",
       "      <td>2023-12-31</td>\n",
       "      <td>Red Sea</td>\n",
       "      <td>20.0407</td>\n",
       "      <td>38.4861</td>\n",
       "      <td>28.08</td>\n",
       "      <td>8.098</td>\n",
       "      <td>NaN</td>\n",
       "      <td>129</td>\n",
       "      <td>False</td>\n",
       "    </tr>\n",
       "  </tbody>\n",
       "</table>\n",
       "<p>500 rows × 9 columns</p>\n",
       "</div>"
      ],
      "text/plain": [
       "           Date            Location  Latitude  Longitude  SST (°C)  pH Level  \\\n",
       "0    2015-01-01             Red Sea   20.0248    38.4931     29.47     8.107   \n",
       "1    2015-01-07  Great Barrier Reef  -18.2988   147.7782     29.65     8.004   \n",
       "2    2015-01-14       Caribbean Sea   14.9768   -75.0233     28.86     7.947   \n",
       "3    2015-01-20  Great Barrier Reef  -18.3152   147.6486     28.97     7.995   \n",
       "4    2015-01-27           Galápagos   -0.8805   -90.9769     28.60     7.977   \n",
       "..          ...                 ...       ...        ...       ...       ...   \n",
       "495  2023-12-04           Galápagos   -0.9177   -90.9771     30.68     7.939   \n",
       "496  2023-12-11            Maldives    3.1725    73.3067     31.49     7.952   \n",
       "497  2023-12-17       Caribbean Sea   15.0430   -75.0194     28.43     8.053   \n",
       "498  2023-12-24             Red Sea   19.9993    38.4655     27.76     8.137   \n",
       "499  2023-12-31             Red Sea   20.0407    38.4861     28.08     8.098   \n",
       "\n",
       "    Bleaching Severity  Species Observed  Marine Heatwave  \n",
       "0                  NaN               106            False  \n",
       "1                 High               116            False  \n",
       "2                 High                90            False  \n",
       "3               Medium                94            False  \n",
       "4                  NaN               110            False  \n",
       "..                 ...               ...              ...  \n",
       "495             Medium               108             True  \n",
       "496             Medium                81             True  \n",
       "497                Low                91            False  \n",
       "498             Medium               108            False  \n",
       "499                NaN               129            False  \n",
       "\n",
       "[500 rows x 9 columns]"
      ]
     },
     "execution_count": 4,
     "metadata": {},
     "output_type": "execute_result"
    }
   ],
   "source": [
    "df_coral"
   ]
  },
  {
   "cell_type": "code",
   "execution_count": null,
   "id": "6e972416",
   "metadata": {},
   "outputs": [
    {
     "data": {
      "text/plain": [
       "array(['Red Sea', 'Great Barrier Reef', 'Caribbean Sea', 'Galápagos',\n",
       "       'South China Sea', 'Maldives', 'Hawaiian Islands'], dtype=object)"
      ]
     },
     "execution_count": 11,
     "metadata": {},
     "output_type": "execute_result"
    }
   ],
   "source": [
    "df_coral['Location'].unique()"
   ]
  },
  {
   "cell_type": "code",
   "execution_count": null,
   "id": "fde4ab47",
   "metadata": {},
   "outputs": [
    {
     "name": "stdout",
     "output_type": "stream",
     "text": [
      "\n",
      "    ===================== Informe de Datos =====================\n",
      "    \n",
      "    Porcentaje de Nulos por Columna:\n",
      "    ------------------------------------------------------------\n",
      "    Date                   0.0\n",
      "Location               0.0\n",
      "Latitude               0.0\n",
      "Longitude              0.0\n",
      "SST (°C)               0.0\n",
      "pH Level               0.0\n",
      "Bleaching Severity    30.0\n",
      "Species Observed       0.0\n",
      "Marine Heatwave        0.0\n",
      "    \n",
      "    ------------------------------------------------------------\n",
      "    Duplicados:\n",
      "    ------------------------------------------------------------\n",
      "    No hay duplicados\n",
      "    \n",
      "    ============================================================\n",
      "    \n"
     ]
    }
   ],
   "source": [
    "# Función para conocer nulos y duplicados en un informe. Next step--> ETL\n",
    "\n",
    "def nulos_duplicados(df_coral):\n",
    "    # Cálculo del porcentaje de nulos\n",
    "    porcentaje_nulos = df_coral.isna().sum() / df_coral.shape[0] * 100\n",
    "    \n",
    "    # Verificación de duplicados\n",
    "    duplicados = df_coral.duplicated().sum()\n",
    "    if duplicados == 0:\n",
    "        mensaje_duplicados = \"No hay duplicados\"\n",
    "    else:\n",
    "        mensaje_duplicados = f\"Hay {duplicados} duplicados\"\n",
    "    \n",
    "    # Creación de un informe\n",
    "    reporte = f\"\"\"\n",
    "    ===================== Informe de Datos =====================\n",
    "    \n",
    "    Porcentaje de Nulos por Columna:\n",
    "    ------------------------------------------------------------\n",
    "    {porcentaje_nulos.to_string()}\n",
    "    \n",
    "    ------------------------------------------------------------\n",
    "    Duplicados:\n",
    "    ------------------------------------------------------------\n",
    "    {mensaje_duplicados}\n",
    "    \n",
    "    ============================================================\n",
    "    \"\"\"\n",
    "    \n",
    "    # Imprimir directamente el reporte\n",
    "    print(reporte)\n",
    "\n",
    "# Ejemplo de uso\n",
    "# df_mp = pd.DataFrame(...)\n",
    "\n",
    "# Llamar directamente a la función\n",
    "nulos_duplicados(df_coral)\n"
   ]
  },
  {
   "cell_type": "code",
   "execution_count": 8,
   "id": "8cf646c7",
   "metadata": {},
   "outputs": [
    {
     "name": "stdout",
     "output_type": "stream",
     "text": [
      "Bleaching Severity\n",
      "Low       132\n",
      "Medium    130\n",
      "High       88\n",
      "Name: count, dtype: int64\n"
     ]
    }
   ],
   "source": [
    "recuento = df_coral['Bleaching Severity'].value_counts()\n",
    "print(recuento)"
   ]
  },
  {
   "cell_type": "code",
   "execution_count": null,
   "id": "a070d08e",
   "metadata": {},
   "outputs": [],
   "source": [
    "\"\"\"La imputación de \"Bleaching Severity\" no es posible, Low y Medium\n",
    "muy homogéneo para imputar por moda\"\"\""
   ]
  },
  {
   "cell_type": "code",
   "execution_count": null,
   "id": "f11f87b4",
   "metadata": {},
   "outputs": [
    {
     "data": {
      "text/plain": [
       "array(['Red Sea', 'Great Barrier Reef', 'Caribbean Sea', 'Galápagos',\n",
       "       'South China Sea', 'Maldives', 'Hawaiian Islands'], dtype=object)"
      ]
     },
     "execution_count": 5,
     "metadata": {},
     "output_type": "execute_result"
    }
   ],
   "source": [
    "df_coral['Location'].unique()"
   ]
  }
 ],
 "metadata": {
  "kernelspec": {
   "display_name": "Python 3",
   "language": "python",
   "name": "python3"
  },
  "language_info": {
   "codemirror_mode": {
    "name": "ipython",
    "version": 3
   },
   "file_extension": ".py",
   "mimetype": "text/x-python",
   "name": "python",
   "nbconvert_exporter": "python",
   "pygments_lexer": "ipython3",
   "version": "3.12.7"
  }
 },
 "nbformat": 4,
 "nbformat_minor": 5
}
