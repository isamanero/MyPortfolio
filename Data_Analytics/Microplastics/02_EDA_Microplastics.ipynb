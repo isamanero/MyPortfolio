{
 "cells": [
  {
   "cell_type": "markdown",
   "id": "d18d47f4",
   "metadata": {},
   "source": [
    "# EDA Marine Microplastics"
   ]
  },
  {
   "cell_type": "markdown",
   "id": "897182c9",
   "metadata": {},
   "source": [
    "## Librerías y carga de archivos"
   ]
  },
  {
   "cell_type": "code",
   "execution_count": 1,
   "id": "2ffcef05",
   "metadata": {},
   "outputs": [],
   "source": [
    "# Tratamiento de datos\n",
    "# -----------------------------------------------------------------------\n",
    "import pandas as pd\n",
    "import numpy as np\n",
    "\n",
    "# Librerías de visualización\n",
    "# -----------------------------------------------------------------------\n",
    "import seaborn as sns\n",
    "import matplotlib.pyplot as plt\n",
    "\n",
    "# Para cargar un data en mysql\n",
    "\n",
    "import mysql.connector\n",
    "from mysql.connector import errorcode\n",
    "\n",
    "# Configuración\n",
    "# -----------------------------------------------------------------------\n",
    "pd.set_option('display.max_columns', None) # para poder visualizar todas las columnas de los DataFrames"
   ]
  },
  {
   "cell_type": "code",
   "execution_count": 2,
   "id": "746abd4d",
   "metadata": {},
   "outputs": [
    {
     "data": {
      "text/html": [
       "<div>\n",
       "<style scoped>\n",
       "    .dataframe tbody tr th:only-of-type {\n",
       "        vertical-align: middle;\n",
       "    }\n",
       "\n",
       "    .dataframe tbody tr th {\n",
       "        vertical-align: top;\n",
       "    }\n",
       "\n",
       "    .dataframe thead th {\n",
       "        text-align: right;\n",
       "    }\n",
       "</style>\n",
       "<table border=\"1\" class=\"dataframe\">\n",
       "  <thead>\n",
       "    <tr style=\"text-align: right;\">\n",
       "      <th></th>\n",
       "      <th>OBJECTID</th>\n",
       "      <th>Oceans</th>\n",
       "      <th>Regions</th>\n",
       "      <th>Sampling Method</th>\n",
       "      <th>Measurement</th>\n",
       "      <th>Unit</th>\n",
       "      <th>Density Range</th>\n",
       "      <th>Density Class</th>\n",
       "      <th>Short Reference</th>\n",
       "      <th>Long Reference</th>\n",
       "      <th>DOI</th>\n",
       "      <th>Organization</th>\n",
       "      <th>Keywords</th>\n",
       "      <th>Accession Number</th>\n",
       "      <th>Accession Link</th>\n",
       "      <th>Latitude</th>\n",
       "      <th>Longitude</th>\n",
       "      <th>Date</th>\n",
       "      <th>GlobalID</th>\n",
       "      <th>Density_Center</th>\n",
       "      <th>Year</th>\n",
       "      <th>Month</th>\n",
       "    </tr>\n",
       "  </thead>\n",
       "  <tbody>\n",
       "    <tr>\n",
       "      <th>0</th>\n",
       "      <td>9676</td>\n",
       "      <td>Atlantic Ocean</td>\n",
       "      <td>NaN</td>\n",
       "      <td>Grab sample</td>\n",
       "      <td>0.018</td>\n",
       "      <td>pieces/m3</td>\n",
       "      <td>0.005-1</td>\n",
       "      <td>Medium</td>\n",
       "      <td>Barrows et al.2018</td>\n",
       "      <td>Barrows, A.P.W., S.E. Cathey, C.W. Petersen. 2...</td>\n",
       "      <td>https://doi.org/10.1016/j.envpol.2018.02.062</td>\n",
       "      <td>Adventure Scientist</td>\n",
       "      <td>Adventure Scientist/Citizen Science</td>\n",
       "      <td>211009</td>\n",
       "      <td>https://www.ncei.noaa.gov/access/metadata/land...</td>\n",
       "      <td>-31.696000</td>\n",
       "      <td>-48.560000</td>\n",
       "      <td>2015-08-11</td>\n",
       "      <td>a77121b2-e113-444e-82d9-7af11d62fdd2</td>\n",
       "      <td>0.50250</td>\n",
       "      <td>2015</td>\n",
       "      <td>8</td>\n",
       "    </tr>\n",
       "    <tr>\n",
       "      <th>1</th>\n",
       "      <td>6427</td>\n",
       "      <td>Pacific Ocean</td>\n",
       "      <td>NaN</td>\n",
       "      <td>Neuston net</td>\n",
       "      <td>0.000</td>\n",
       "      <td>pieces/m3</td>\n",
       "      <td>0-0.0005</td>\n",
       "      <td>Very Low</td>\n",
       "      <td>Law et al.2014</td>\n",
       "      <td>Law, K.L, S.K. Morét-Ferguson, D.S. Goodwin, E...</td>\n",
       "      <td>https://doi.org/10.1021/es4053076</td>\n",
       "      <td>Sea Education Association</td>\n",
       "      <td>SEA</td>\n",
       "      <td>211008</td>\n",
       "      <td>https://www.ncei.noaa.gov/access/metadata/land...</td>\n",
       "      <td>6.350000</td>\n",
       "      <td>-121.850000</td>\n",
       "      <td>2002-12-18</td>\n",
       "      <td>be27c450-02ca-4261-8d89-cae21108e6cc</td>\n",
       "      <td>0.00025</td>\n",
       "      <td>2002</td>\n",
       "      <td>12</td>\n",
       "    </tr>\n",
       "    <tr>\n",
       "      <th>2</th>\n",
       "      <td>10672</td>\n",
       "      <td>Pacific Ocean</td>\n",
       "      <td>NaN</td>\n",
       "      <td>Manta net</td>\n",
       "      <td>0.013</td>\n",
       "      <td>pieces/m3</td>\n",
       "      <td>0.005-1</td>\n",
       "      <td>Medium</td>\n",
       "      <td>Goldstein et al.2013</td>\n",
       "      <td>Goldstein, M.C., A.J. Titmus, M. Ford. 2013. S...</td>\n",
       "      <td>https://doi.org/10.1371/journal.pone.0080020</td>\n",
       "      <td>Scripps Institution of Oceanography-University...</td>\n",
       "      <td>Great Pacific Garbage Patch/SEAPLEX</td>\n",
       "      <td>253448</td>\n",
       "      <td>https://www.ncei.noaa.gov/access/metadata/land...</td>\n",
       "      <td>0.500000</td>\n",
       "      <td>-95.350000</td>\n",
       "      <td>2006-10-17</td>\n",
       "      <td>23effcdd-35b7-4e1e-adb4-390693a287d3</td>\n",
       "      <td>0.50250</td>\n",
       "      <td>2006</td>\n",
       "      <td>10</td>\n",
       "    </tr>\n",
       "    <tr>\n",
       "      <th>3</th>\n",
       "      <td>13921</td>\n",
       "      <td>Atlantic Ocean</td>\n",
       "      <td>NaN</td>\n",
       "      <td>Aluminum bucket</td>\n",
       "      <td>1368.000</td>\n",
       "      <td>pieces/m3</td>\n",
       "      <td>10</td>\n",
       "      <td>Very High</td>\n",
       "      <td>Queiroz et al.2022</td>\n",
       "      <td>Queiroz, A.F.dos S., A.S. da Conceição, D. Che...</td>\n",
       "      <td>https://doi.org/10.1016/j.scitotenv.2022.156259</td>\n",
       "      <td>Federal University of Pará, Brazil</td>\n",
       "      <td>Amazon Continental Shelf</td>\n",
       "      <td>276482</td>\n",
       "      <td>https://www.ncei.noaa.gov/access/metadata/land...</td>\n",
       "      <td>0.631825</td>\n",
       "      <td>-45.398158</td>\n",
       "      <td>2018-10-17</td>\n",
       "      <td>16d77822-0533-4116-97b9-0bdb592f3d6e</td>\n",
       "      <td>10.00000</td>\n",
       "      <td>2018</td>\n",
       "      <td>10</td>\n",
       "    </tr>\n",
       "    <tr>\n",
       "      <th>4</th>\n",
       "      <td>9344</td>\n",
       "      <td>Pacific Ocean</td>\n",
       "      <td>NaN</td>\n",
       "      <td>Grab sample</td>\n",
       "      <td>0.001</td>\n",
       "      <td>pieces/m3</td>\n",
       "      <td>0.0005-0.005</td>\n",
       "      <td>Low</td>\n",
       "      <td>Barrows et al.2018</td>\n",
       "      <td>Barrows, A.P.W., S.E. Cathey, C.W. Petersen. 2...</td>\n",
       "      <td>https://doi.org/10.1016/j.envpol.2018.02.062</td>\n",
       "      <td>Adventure Scientist</td>\n",
       "      <td>Adventure Scientist/Citizen Science</td>\n",
       "      <td>211009</td>\n",
       "      <td>https://www.ncei.noaa.gov/access/metadata/land...</td>\n",
       "      <td>16.623000</td>\n",
       "      <td>-99.697800</td>\n",
       "      <td>2015-01-03</td>\n",
       "      <td>b9e435e3-9e86-4143-8b51-877e5dcdc7a6</td>\n",
       "      <td>0.00275</td>\n",
       "      <td>2015</td>\n",
       "      <td>1</td>\n",
       "    </tr>\n",
       "  </tbody>\n",
       "</table>\n",
       "</div>"
      ],
      "text/plain": [
       "   OBJECTID          Oceans Regions  Sampling Method  Measurement       Unit  \\\n",
       "0      9676  Atlantic Ocean     NaN      Grab sample        0.018  pieces/m3   \n",
       "1      6427   Pacific Ocean     NaN      Neuston net        0.000  pieces/m3   \n",
       "2     10672   Pacific Ocean     NaN        Manta net        0.013  pieces/m3   \n",
       "3     13921  Atlantic Ocean     NaN  Aluminum bucket     1368.000  pieces/m3   \n",
       "4      9344   Pacific Ocean     NaN      Grab sample        0.001  pieces/m3   \n",
       "\n",
       "  Density Range Density Class       Short Reference  \\\n",
       "0       0.005-1        Medium    Barrows et al.2018   \n",
       "1      0-0.0005      Very Low        Law et al.2014   \n",
       "2       0.005-1        Medium  Goldstein et al.2013   \n",
       "3            10     Very High    Queiroz et al.2022   \n",
       "4  0.0005-0.005           Low    Barrows et al.2018   \n",
       "\n",
       "                                      Long Reference  \\\n",
       "0  Barrows, A.P.W., S.E. Cathey, C.W. Petersen. 2...   \n",
       "1  Law, K.L, S.K. Morét-Ferguson, D.S. Goodwin, E...   \n",
       "2  Goldstein, M.C., A.J. Titmus, M. Ford. 2013. S...   \n",
       "3  Queiroz, A.F.dos S., A.S. da Conceição, D. Che...   \n",
       "4  Barrows, A.P.W., S.E. Cathey, C.W. Petersen. 2...   \n",
       "\n",
       "                                               DOI  \\\n",
       "0     https://doi.org/10.1016/j.envpol.2018.02.062   \n",
       "1                https://doi.org/10.1021/es4053076   \n",
       "2     https://doi.org/10.1371/journal.pone.0080020   \n",
       "3  https://doi.org/10.1016/j.scitotenv.2022.156259   \n",
       "4     https://doi.org/10.1016/j.envpol.2018.02.062   \n",
       "\n",
       "                                        Organization  \\\n",
       "0                                Adventure Scientist   \n",
       "1                          Sea Education Association   \n",
       "2  Scripps Institution of Oceanography-University...   \n",
       "3                 Federal University of Pará, Brazil   \n",
       "4                                Adventure Scientist   \n",
       "\n",
       "                              Keywords  Accession Number  \\\n",
       "0  Adventure Scientist/Citizen Science            211009   \n",
       "1                                  SEA            211008   \n",
       "2  Great Pacific Garbage Patch/SEAPLEX            253448   \n",
       "3             Amazon Continental Shelf            276482   \n",
       "4  Adventure Scientist/Citizen Science            211009   \n",
       "\n",
       "                                      Accession Link   Latitude   Longitude  \\\n",
       "0  https://www.ncei.noaa.gov/access/metadata/land... -31.696000  -48.560000   \n",
       "1  https://www.ncei.noaa.gov/access/metadata/land...   6.350000 -121.850000   \n",
       "2  https://www.ncei.noaa.gov/access/metadata/land...   0.500000  -95.350000   \n",
       "3  https://www.ncei.noaa.gov/access/metadata/land...   0.631825  -45.398158   \n",
       "4  https://www.ncei.noaa.gov/access/metadata/land...  16.623000  -99.697800   \n",
       "\n",
       "         Date                              GlobalID  Density_Center  Year  \\\n",
       "0  2015-08-11  a77121b2-e113-444e-82d9-7af11d62fdd2         0.50250  2015   \n",
       "1  2002-12-18  be27c450-02ca-4261-8d89-cae21108e6cc         0.00025  2002   \n",
       "2  2006-10-17  23effcdd-35b7-4e1e-adb4-390693a287d3         0.50250  2006   \n",
       "3  2018-10-17  16d77822-0533-4116-97b9-0bdb592f3d6e        10.00000  2018   \n",
       "4  2015-01-03  b9e435e3-9e86-4143-8b51-877e5dcdc7a6         0.00275  2015   \n",
       "\n",
       "   Month  \n",
       "0      8  \n",
       "1     12  \n",
       "2     10  \n",
       "3     10  \n",
       "4      1  "
      ]
     },
     "execution_count": 2,
     "metadata": {},
     "output_type": "execute_result"
    }
   ],
   "source": [
    "df_clean = pd.read_csv(\"../../Archivos/Clean_Marine_Microplastics.csv\")\n",
    "df_clean.head()"
   ]
  },
  {
   "cell_type": "markdown",
   "id": "beb09dbf",
   "metadata": {},
   "source": [
    "## Creación base de datos MySQL y carga de datos"
   ]
  },
  {
   "cell_type": "code",
   "execution_count": 3,
   "id": "331f06dd",
   "metadata": {},
   "outputs": [
    {
     "data": {
      "text/plain": [
       "'\\nCREATE DATABASE IF NOT EXISTS microplastic_data;\\nUSE microplastic_data;\\n\\n\\nCREATE TABLE samples (\\n    OBJECTID INT PRIMARY KEY,\\n    Oceans VARCHAR(100),\\n    Regions VARCHAR(100),\\n    Sampling_Method VARCHAR(100),\\n    Measurement FLOAT8,\\n    Unit VARCHAR(50),\\n    Density_Range VARCHAR(50),\\n    Density_Class VARCHAR(50),\\n    Short_Reference VARCHAR(255),\\n    Organization VARCHAR(255),\\n    Keywords TEXT,\\n    Accession_Number VARCHAR(100),\\n    Accession_Link VARCHAR(255),\\n    Latitude DECIMAL(9,6),\\n    Longitude DECIMAL(9,6),\\n    Date DATE,\\n    GlobalID CHAR(36),\\n    Density_center FLOAT,\\n    Year INT,\\n    Month INT);'"
      ]
     },
     "execution_count": 3,
     "metadata": {},
     "output_type": "execute_result"
    }
   ],
   "source": [
    "# CREAMOS LA BASE DE DATOS EN MYSQL:\n",
    "\"\"\"\n",
    "CREATE DATABASE IF NOT EXISTS microplastic_data;\n",
    "USE microplastic_data;\n",
    "\n",
    "\n",
    "CREATE TABLE samples (\n",
    "    OBJECTID INT PRIMARY KEY,\n",
    "    Oceans VARCHAR(100),\n",
    "    Regions VARCHAR(100),\n",
    "    Sampling_Method VARCHAR(100),\n",
    "    Measurement FLOAT8,\n",
    "    Unit VARCHAR(50),\n",
    "    Density_Range VARCHAR(50),\n",
    "    Density_Class VARCHAR(50),\n",
    "    Short_Reference VARCHAR(255),\n",
    "    Organization VARCHAR(255),\n",
    "    Keywords TEXT,\n",
    "    Accession_Number VARCHAR(100),\n",
    "    Accession_Link VARCHAR(255),\n",
    "    Latitude DECIMAL(9,6),\n",
    "    Longitude DECIMAL(9,6),\n",
    "    Date DATE,\n",
    "    GlobalID CHAR(36),\n",
    "    Density_center FLOAT,\n",
    "    Year INT,\n",
    "    Month INT);\"\"\""
   ]
  },
  {
   "cell_type": "code",
   "execution_count": 4,
   "id": "7f9c1265",
   "metadata": {},
   "outputs": [],
   "source": [
    "# Para evitar conflictos en SQL, necesito sustituir los espacios en las columnas por \"_\":\n",
    "\n",
    "df_clean.columns = df_clean.columns.str.strip().str.lower().str.replace(' ', '_')\n"
   ]
  },
  {
   "cell_type": "code",
   "execution_count": 5,
   "id": "317e6bac",
   "metadata": {},
   "outputs": [],
   "source": [
    "lista_microp= df_clean.values.tolist()"
   ]
  },
  {
   "cell_type": "code",
   "execution_count": 6,
   "id": "08bb23aa",
   "metadata": {},
   "outputs": [
    {
     "data": {
      "text/plain": [
       "' Si lista_de_tuplas contiene valores NaN (de pandas), MySQL no puede insertarlos.\"\\n\"Para corregirlo, reemplaza NaN por NULL antes de la inserción:'"
      ]
     },
     "execution_count": 6,
     "metadata": {},
     "output_type": "execute_result"
    }
   ],
   "source": [
    "# Reemplaza NaN con None para que MySQL lo interprete como NULL\n",
    "lista_microp = [[None if isinstance(i, float) and np.isnan(i) else i for i in tupla] for tupla in lista_microp]\n",
    "\n",
    "\"\"\" Si lista_de_tuplas contiene valores NaN (de pandas), MySQL no puede insertarlos.\"\n",
    "\"Para corregirlo, reemplaza NaN por NULL antes de la inserción:\"\"\""
   ]
  },
  {
   "cell_type": "code",
   "execution_count": 7,
   "id": "5617f076",
   "metadata": {},
   "outputs": [],
   "source": [
    "query = \"\"\"\n",
    "INSERT INTO samples (\n",
    "    objectid, oceans, regions, sampling_method, measurement, unit,\n",
    "    density_range, density_class, short_reference, long_reference,\n",
    "    doi, organization, keywords, accession_number, accession_link,\n",
    "    latitude, longitude, date, globalid, density_center, year, month\n",
    ") VALUES (\n",
    "    %s, %s, %s, %s, %s, %s,\n",
    "    %s, %s, %s, %s, %s, %s,\n",
    "    %s, %s, %s, %s, %s, %s,\n",
    "    %s, %s, %s, %s\n",
    ")\n",
    "\"\"\""
   ]
  },
  {
   "cell_type": "code",
   "execution_count": 8,
   "id": "98c52da3",
   "metadata": {},
   "outputs": [],
   "source": [
    "#Carga de la base de datos limpia a MySQL\n",
    "# Creamos una base de datos en My SQL y una tabla correspondiente a nuestro csv.\n",
    "\n",
    "#BBDD : microplastic_data\n",
    "#Tabla: samples\n",
    "\n",
    "cnx = mysql.connector.connect(user='root', password='AlumnaAdalab',\n",
    "                              host='127.0.0.1',\n",
    "                              database ='microplastic_data',auth_plugin='mysql_native_password')\n",
    "\n",
    "mycursor = cnx.cursor()"
   ]
  },
  {
   "cell_type": "code",
   "execution_count": 9,
   "id": "2639a98f",
   "metadata": {},
   "outputs": [
    {
     "data": {
      "text/plain": [
       "'ESTA PARTE LA TENGO COMENTADA PARA QUE NO\\nSE EJECUTE EN UN DESCUIDO, YA QUE TENEMOS LA\\nBASE DE DATOS YA CARGADA'"
      ]
     },
     "execution_count": 9,
     "metadata": {},
     "output_type": "execute_result"
    }
   ],
   "source": [
    "# Insertar múltiples registros utilizando ejecutemany()\n",
    "# mycursor.executemany(query,lista_microp)\n",
    "\n",
    "\"\"\"ESTA PARTE LA TENGO COMENTADA PARA QUE NO\n",
    "SE EJECUTE EN UN DESCUIDO, YA QUE TENEMOS LA\n",
    "BASE DE DATOS YA CARGADA\"\"\"\n",
    "\n",
    "# Confirmar los cambios en la base de datos\n",
    "# cnx.commit()\n",
    "\n",
    "# print(\"Datos insertados correctamente ✅.\")\n",
    "# print(mycursor.rowcount, \"registros insertados\")"
   ]
  },
  {
   "cell_type": "markdown",
   "id": "eb27e5a0",
   "metadata": {},
   "source": [
    "## Questions"
   ]
  },
  {
   "cell_type": "code",
   "execution_count": 10,
   "id": "e94c8e65",
   "metadata": {},
   "outputs": [
    {
     "name": "stdout",
     "output_type": "stream",
     "text": [
      "Total de registros: 20425\n",
      "Duplicados: 0\n",
      "Registros únicos: 20425\n"
     ]
    }
   ],
   "source": [
    "#¿Cuántos registros únicos hay en el dataset?\n",
    "\n",
    "total_registros = df_clean.shape[0]\n",
    "duplicados = df_clean.duplicated().sum()\n",
    "registros_unicos = total_registros - duplicados\n",
    "\n",
    "print(f\"Total de registros: {total_registros}\")\n",
    "print(f\"Duplicados: {duplicados}\")\n",
    "print(f\"Registros únicos: {registros_unicos}\")\n"
   ]
  },
  {
   "cell_type": "code",
   "execution_count": 11,
   "id": "ce5a13d8",
   "metadata": {},
   "outputs": [
    {
     "data": {
      "text/plain": [
       "oceans\n",
       "Atlantic Ocean    15497\n",
       "Pacific Ocean      4730\n",
       "Arctic Ocean        178\n",
       "Indian Ocean         20\n",
       "Name: count, dtype: int64"
      ]
     },
     "execution_count": 11,
     "metadata": {},
     "output_type": "execute_result"
    }
   ],
   "source": [
    "#¿Cuáles son los océanos con más muestras registradas?\n",
    "\n",
    "df_clean['oceans'].value_counts()"
   ]
  },
  {
   "cell_type": "code",
   "execution_count": 12,
   "id": "be818b63",
   "metadata": {},
   "outputs": [
    {
     "data": {
      "text/plain": [
       "oceans\n",
       "Arctic Ocean      10\n",
       "Atlantic Ocean    23\n",
       "Indian Ocean       2\n",
       "Pacific Ocean     11\n",
       "Name: regions, dtype: int64"
      ]
     },
     "execution_count": 12,
     "metadata": {},
     "output_type": "execute_result"
    }
   ],
   "source": [
    "#¿Cuántas regiones distintas hay por océano?\n",
    "\n",
    "df_clean.groupby('oceans')['regions'].nunique()"
   ]
  },
  {
   "cell_type": "code",
   "execution_count": 13,
   "id": "a6dd3b0d",
   "metadata": {},
   "outputs": [
    {
     "name": "stdout",
     "output_type": "stream",
     "text": [
      "\n",
      "🌊 Arctic Ocean (11 regiones):\n",
      "   - nan\n",
      "   - norwegian sea\n",
      "   - northwestern passages\n",
      "   - beaufort sea\n",
      "   - davis strait\n",
      "   - greenland sea\n",
      "   - baffin bay\n",
      "   - hudson strait\n",
      "   - chukchi sea\n",
      "   - barents sea\n",
      "   - white sea\n",
      "\n",
      "🌊 Atlantic Ocean (24 regiones):\n",
      "   - nan\n",
      "   - caribbean sea\n",
      "   - mediterranean sea\n",
      "   - north sea\n",
      "   - inner seas off the west coast of scotland\n",
      "   - new york bight\n",
      "   - gulf of mexico\n",
      "   - celtic sea\n",
      "   - coastal waters of florida\n",
      "   - stellwagen bank national marine sanctuary\n",
      "   - irish sea and st. george's channel\n",
      "   - kattegat\n",
      "   - english channel\n",
      "   - gulf of st. lawrence\n",
      "   - baltic sea\n",
      "   - bay of biscay\n",
      "   - skagerrak strait\n",
      "   - bay of fundy\n",
      "   - gulf of bothnia\n",
      "   - black sea\n",
      "   - florida keys national marine sanctuary\n",
      "   - labrador sea\n",
      "   - rio de la plata\n",
      "   - gulf of guinea\n",
      "\n",
      "🌊 Indian Ocean (3 regiones):\n",
      "   - nan\n",
      "   - mozambique channel\n",
      "   - red sea\n",
      "\n",
      "🌊 Pacific Ocean (12 regiones):\n",
      "   - nan\n",
      "   - gulf of california\n",
      "   - coastal waters of southeast alaska and british columbia\n",
      "   - gulf of alaska\n",
      "   - papahanaumokuakea marine national monument\n",
      "   - monterey bay national marine sanctuary\n",
      "   - the coastal waters of southeast alaska and british columbia\n",
      "   - olympic coast national marine sanctuary\n",
      "   - channel islands national marine sanctuary\n",
      "   - bering sea\n",
      "   - greater farallones national marine sanctuary\n",
      "   - hawaiian islands humpback whale national marine sanctuary\n"
     ]
    }
   ],
   "source": [
    "regiones_por_oceano = df_clean.groupby('oceans')['regions'].unique()\n",
    "\n",
    "for oceano, regiones in regiones_por_oceano.items():\n",
    "    print(f\"\\n🌊 {oceano} ({len(regiones)} regiones):\")\n",
    "    for region in regiones:\n",
    "        print(f\"   - {region}\")\n",
    "\n",
    "        # Cuenta una de mas, porque cuenta nan como valor único.\n"
   ]
  },
  {
   "cell_type": "code",
   "execution_count": 14,
   "id": "fecb4ca2",
   "metadata": {},
   "outputs": [
    {
     "data": {
      "text/html": [
       "<div>\n",
       "<style scoped>\n",
       "    .dataframe tbody tr th:only-of-type {\n",
       "        vertical-align: middle;\n",
       "    }\n",
       "\n",
       "    .dataframe tbody tr th {\n",
       "        vertical-align: top;\n",
       "    }\n",
       "\n",
       "    .dataframe thead th {\n",
       "        text-align: right;\n",
       "    }\n",
       "</style>\n",
       "<table border=\"1\" class=\"dataframe\">\n",
       "  <thead>\n",
       "    <tr style=\"text-align: right;\">\n",
       "      <th></th>\n",
       "      <th>min</th>\n",
       "      <th>max</th>\n",
       "      <th>mean</th>\n",
       "    </tr>\n",
       "    <tr>\n",
       "      <th>oceans</th>\n",
       "      <th></th>\n",
       "      <th></th>\n",
       "      <th></th>\n",
       "    </tr>\n",
       "  </thead>\n",
       "  <tbody>\n",
       "    <tr>\n",
       "      <th>Arctic Ocean</th>\n",
       "      <td>0.00025</td>\n",
       "      <td>10.0</td>\n",
       "      <td>2.425603</td>\n",
       "    </tr>\n",
       "    <tr>\n",
       "      <th>Atlantic Ocean</th>\n",
       "      <td>0.00000</td>\n",
       "      <td>40000.0</td>\n",
       "      <td>193.027085</td>\n",
       "    </tr>\n",
       "    <tr>\n",
       "      <th>Indian Ocean</th>\n",
       "      <td>0.00025</td>\n",
       "      <td>120.0</td>\n",
       "      <td>8.976888</td>\n",
       "    </tr>\n",
       "    <tr>\n",
       "      <th>Pacific Ocean</th>\n",
       "      <td>0.00000</td>\n",
       "      <td>15250.0</td>\n",
       "      <td>610.301053</td>\n",
       "    </tr>\n",
       "  </tbody>\n",
       "</table>\n",
       "</div>"
      ],
      "text/plain": [
       "                    min      max        mean\n",
       "oceans                                      \n",
       "Arctic Ocean    0.00025     10.0    2.425603\n",
       "Atlantic Ocean  0.00000  40000.0  193.027085\n",
       "Indian Ocean    0.00025    120.0    8.976888\n",
       "Pacific Ocean   0.00000  15250.0  610.301053"
      ]
     },
     "execution_count": 14,
     "metadata": {},
     "output_type": "execute_result"
    }
   ],
   "source": [
    "#¿Cuál es la densidad mínima, máxima y promedio de microplásticos por océano?\n",
    "\n",
    "#Aquí usaremos, nuestra columna creada en el Preprocessing--> Density_Center\n",
    "\n",
    "\n",
    "df_clean.groupby('oceans')['density_center'].agg(['min', 'max', 'mean'])"
   ]
  },
  {
   "cell_type": "code",
   "execution_count": 15,
   "id": "52b85fd8",
   "metadata": {},
   "outputs": [],
   "source": [
    "#¿Existen valores nulos o faltantes en campos críticos como Measurement, Date, Latitude y Longitude?\n",
    "\n",
    "# Sólo existen valores nulos en Measurement- Hand picking."
   ]
  },
  {
   "cell_type": "code",
   "execution_count": 16,
   "id": "f4535bc2",
   "metadata": {},
   "outputs": [],
   "source": [
    "# ¿Cómo varía la distribución de microplásticos según el océano? (usa un boxplot o histograma)\n",
    "\n",
    "# En Tableau\n"
   ]
  },
  {
   "cell_type": "code",
   "execution_count": 17,
   "id": "b8a3cdb4",
   "metadata": {},
   "outputs": [],
   "source": [
    "#¿Cuál es la relación entre Density Class y los valores numéricos de Measurement? ¿Es coherente la clasificación?\n",
    "\n",
    "# Primero hay que filtrar por unidad"
   ]
  },
  {
   "cell_type": "code",
   "execution_count": 18,
   "id": "f98415fe",
   "metadata": {},
   "outputs": [
    {
     "name": "stdout",
     "output_type": "stream",
     "text": [
      "El método de muestreo más frecuente es: Neuston net\n",
      "La densidad promedio para este método es: 0.35 en pieces/m3 unidades\n"
     ]
    }
   ],
   "source": [
    "#¿Qué método de muestreo se utilizó con más frecuencia y cuál fue su densidad promedio?\n",
    "\n",
    "# Contar la frecuencia de cada método de muestreo en el DataFrame 'df_clean'\n",
    "frecuencia_metodos = df_clean['sampling_method'].value_counts()\n",
    "\n",
    "# Calcular la densidad promedio por cada método de muestreo\n",
    "densidad_promedio_metodos = df_clean.groupby('sampling_method')['density_center'].mean()\n",
    "\n",
    "# Identificar el método de muestreo más frecuente y su densidad promedio\n",
    "metodo_mas_frecuente = frecuencia_metodos.idxmax()  # Método más frecuente\n",
    "densidad_promedio_mas_frecuente = densidad_promedio_metodos.loc[metodo_mas_frecuente]  # Densidad promedio de ese método\n",
    "\n",
    "# Obtener las unidades asociadas al método de muestreo más frecuente\n",
    "unidad_metodo_mas_frecuente = df_clean[df_clean['sampling_method'] == metodo_mas_frecuente]['unit'].mode()[0]\n",
    "\n",
    "# Mostrar el resultado\n",
    "print(f\"El método de muestreo más frecuente es: {metodo_mas_frecuente}\")\n",
    "print(f\"La densidad promedio para este método es: {densidad_promedio_mas_frecuente:.2f} en {unidad_metodo_mas_frecuente} unidades\")\n"
   ]
  },
  {
   "cell_type": "code",
   "execution_count": 19,
   "id": "f953083d",
   "metadata": {},
   "outputs": [],
   "source": [
    "#¿Qué organizaciones contribuyeron más datos y qué patrones de densidad tienen sus registros?"
   ]
  },
  {
   "cell_type": "code",
   "execution_count": 20,
   "id": "351f2de1",
   "metadata": {},
   "outputs": [
    {
     "name": "stdout",
     "output_type": "stream",
     "text": [
      "Organizaciones que más contribuyen:\n",
      "organization\n",
      "Sea Education Association                        8654\n",
      "University of Texas Marine Science Institute     5812\n",
      "Adventure Scientist                              1181\n",
      "The Ocean Cleanup, Rotterdam, The Netherlands     769\n",
      "Oceaneye Association,  Switzerland                684\n",
      "Name: count, dtype: int64\n",
      "\n",
      "Patrones de densidad promedio para estas organizaciones:\n",
      "organization\n",
      "Sea Education Association                         0.241343\n",
      "University of Texas Marine Science Institute     43.366397\n",
      "Adventure Scientist                               0.266420\n",
      "The Ocean Cleanup, Rotterdam, The Netherlands     3.825344\n",
      "Oceaneye Association,  Switzerland                0.891800\n",
      "Name: density_center, dtype: float64\n"
     ]
    }
   ],
   "source": [
    "# Contar la cantidad de registros por cada organización\n",
    "frecuencia_organizaciones = df_clean['organization'].value_counts()\n",
    "\n",
    "# Calcular la densidad promedio por organización\n",
    "densidad_promedio_organizaciones = df_clean.groupby('organization')['density_center'].mean()\n",
    "\n",
    "# Identificar las organizaciones que más contribuyen\n",
    "organizaciones_mas_contribuyentes = frecuencia_organizaciones.head()  # Top 5 organizaciones que más contribuyen\n",
    "\n",
    "# Mostrar los resultados: organizaciones más contribuyentes y sus densidades promedio\n",
    "print(\"Organizaciones que más contribuyen:\")\n",
    "print(organizaciones_mas_contribuyentes)\n",
    "\n",
    "# Mostrar los patrones de densidad para las organizaciones más contribuyentes\n",
    "print(\"\\nPatrones de densidad promedio para estas organizaciones:\")\n",
    "print(densidad_promedio_organizaciones.loc[organizaciones_mas_contribuyentes.index])\n"
   ]
  },
  {
   "cell_type": "code",
   "execution_count": 21,
   "id": "e6e47eb2",
   "metadata": {},
   "outputs": [],
   "source": [
    "# PREGUNTAS PARA TABLEAU\n",
    "\n",
    "#T1: ¿Cómo ha evolucionado la densidad de microplásticos a lo largo del tiempo en diferentes océanos?\n",
    "\n",
    "#T2: ¿Existen patrones geográficos en la concentración de microplásticos? Visualiza los datos en un mapa.\n",
    "\n",
    "#T3.-¿Se puede detectar alguna estacionalidad en la recolección de muestras o en la densidad?\n",
    "\n",
    "#T5¿Qué regiones presentan mayor riesgo ecológico según las clases de densidad más altas?\n",
    "\n",
    "# CREACIÓN DE MAPA INTERACIVO CON EL DATA"
   ]
  },
  {
   "cell_type": "code",
   "execution_count": 22,
   "id": "26971247",
   "metadata": {},
   "outputs": [
    {
     "data": {
      "text/plain": [
       "Index(['objectid', 'oceans', 'regions', 'sampling_method', 'measurement',\n",
       "       'unit', 'density_range', 'density_class', 'short_reference',\n",
       "       'long_reference', 'doi', 'organization', 'keywords', 'accession_number',\n",
       "       'accession_link', 'latitude', 'longitude', 'date', 'globalid',\n",
       "       'density_center', 'year', 'month'],\n",
       "      dtype='object')"
      ]
     },
     "execution_count": 22,
     "metadata": {},
     "output_type": "execute_result"
    }
   ],
   "source": [
    "df_clean.columns"
   ]
  },
  {
   "cell_type": "code",
   "execution_count": 24,
   "id": "31e26ad9",
   "metadata": {},
   "outputs": [
    {
     "data": {
      "image/png": "[encoded data removed]",
      "text/plain": [
       "<Figure size 1200x600 with 1 Axes>"
      ]
     },
     "metadata": {},
     "output_type": "display_data"
    },
    {
     "name": "stdout",
     "output_type": "stream",
     "text": [
      "Estadístico F: 4196.86, p-valor: 0.0000\n",
      "→ Hay diferencias significativas entre los métodos de muestreo.\n"
     ]
    }
   ],
   "source": [
    "import pandas as pd\n",
    "import seaborn as sns\n",
    "import matplotlib.pyplot as plt\n",
    "from scipy.stats import f_oneway\n",
    "\n",
    "# Filtrar datos válidos\n",
    "d_studio = df_clean.dropna(subset=['sampling_method', 'density_center'])\n",
    "\n",
    "# Boxplot para visualizar diferencias\n",
    "plt.figure(figsize=(12,6))\n",
    "sns.boxplot(x='sampling_method', y='density_center', data=df_clean)\n",
    "plt.xticks(rotation=45)\n",
    "plt.title('Densidad de microplásticos por método de muestreo')\n",
    "plt.show()\n",
    "\n",
    "# Prueba ANOVA para ver si hay diferencias significativas\n",
    "grupos = [group['density_center'].values for name, group in df_clean.groupby('sampling_method')]\n",
    "f_stat, p_val = f_oneway(*grupos)\n",
    "\n",
    "print(f\"Estadístico F: {f_stat:.2f}, p-valor: {p_val:.4f}\")\n",
    "if p_val < 0.05:\n",
    "    print(\"→ Hay diferencias significativas entre los métodos de muestreo.\")\n",
    "else:\n",
    "    print(\"→ No se encontraron diferencias significativas.\")\n"
   ]
  },
  {
   "cell_type": "markdown",
   "id": "8419c48a",
   "metadata": {},
   "source": [
    "Sí, hay diferencias significativas en la densidad de microplásticos según el método de muestreo.\n",
    "\n",
    "Esto significa que el método de recolección influye directamente en la cantidad de microplásticos que se detectan. Es un hallazgo muy importante, sobre todo si se busca comparar datos de distintos estudios o regiones."
   ]
  }
 ],
 "metadata": {
  "kernelspec": {
   "display_name": "Python 3",
   "language": "python",
   "name": "python3"
  },
  "language_info": {
   "codemirror_mode": {
    "name": "ipython",
    "version": 3
   },
   "file_extension": ".py",
   "mimetype": "text/x-python",
   "name": "python",
   "nbconvert_exporter": "python",
   "pygments_lexer": "ipython3",
   "version": "3.12.7"
  }
 },
 "nbformat": 4,
 "nbformat_minor": 5
}
