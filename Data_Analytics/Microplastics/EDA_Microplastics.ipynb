{
 "cells": [
  {
   "cell_type": "markdown",
   "id": "db10fb50",
   "metadata": {},
   "source": [
    "# EDA - Marine_Microplastics 🌊"
   ]
  },
  {
   "cell_type": "markdown",
   "id": "359a654f",
   "metadata": {},
   "source": [
    "## Importación de librerías y datos 📁"
   ]
  },
  {
   "cell_type": "code",
   "execution_count": 1,
   "id": "f2f2b270",
   "metadata": {},
   "outputs": [],
   "source": [
    "# Tratamiento de datos\n",
    "# -----------------------------------------------------------------------\n",
    "import pandas as pd\n",
    "import numpy as np\n",
    "\n",
    "# Imputación de nulos usando métodos avanzados estadísticos\n",
    "# -----------------------------------------------------------------------\n",
    "from sklearn.impute import SimpleImputer\n",
    "from sklearn.experimental import enable_iterative_imputer\n",
    "from sklearn.impute import IterativeImputer\n",
    "from sklearn.impute import KNNImputer\n",
    "\n",
    "# Librerías de visualización\n",
    "# -----------------------------------------------------------------------\n",
    "import seaborn as sns\n",
    "import matplotlib.pyplot as plt\n",
    "# Configuración\n",
    "# -----------------------------------------------------------------------\n",
    "pd.set_option('display.max_columns', None) # para poder visualizar todas las columnas de los DataFrames"
   ]
  },
  {
   "cell_type": "code",
   "execution_count": 2,
   "id": "30041278",
   "metadata": {},
   "outputs": [
    {
     "data": {
      "text/html": [
       "<div>\n",
       "<style scoped>\n",
       "    .dataframe tbody tr th:only-of-type {\n",
       "        vertical-align: middle;\n",
       "    }\n",
       "\n",
       "    .dataframe tbody tr th {\n",
       "        vertical-align: top;\n",
       "    }\n",
       "\n",
       "    .dataframe thead th {\n",
       "        text-align: right;\n",
       "    }\n",
       "</style>\n",
       "<table border=\"1\" class=\"dataframe\">\n",
       "  <thead>\n",
       "    <tr style=\"text-align: right;\">\n",
       "      <th></th>\n",
       "      <th>OBJECTID</th>\n",
       "      <th>Oceans</th>\n",
       "      <th>Regions</th>\n",
       "      <th>SubRegions</th>\n",
       "      <th>Sampling Method</th>\n",
       "      <th>Measurement</th>\n",
       "      <th>Unit</th>\n",
       "      <th>Density Range</th>\n",
       "      <th>Density Class</th>\n",
       "      <th>Short Reference</th>\n",
       "      <th>Long Reference</th>\n",
       "      <th>DOI</th>\n",
       "      <th>Organization</th>\n",
       "      <th>Keywords</th>\n",
       "      <th>Accession Number</th>\n",
       "      <th>Accession Link</th>\n",
       "      <th>Latitude</th>\n",
       "      <th>Longitude</th>\n",
       "      <th>Date</th>\n",
       "      <th>GlobalID</th>\n",
       "      <th>x</th>\n",
       "      <th>y</th>\n",
       "    </tr>\n",
       "  </thead>\n",
       "  <tbody>\n",
       "    <tr>\n",
       "      <th>0</th>\n",
       "      <td>9676</td>\n",
       "      <td>Atlantic Ocean</td>\n",
       "      <td>NaN</td>\n",
       "      <td>NaN</td>\n",
       "      <td>Grab sample</td>\n",
       "      <td>0.018</td>\n",
       "      <td>pieces/m3</td>\n",
       "      <td>0.005-1</td>\n",
       "      <td>Medium</td>\n",
       "      <td>Barrows et al.2018</td>\n",
       "      <td>Barrows, A.P.W., S.E. Cathey, C.W. Petersen. 2...</td>\n",
       "      <td>https://doi.org/10.1016/j.envpol.2018.02.062</td>\n",
       "      <td>Adventure Scientist</td>\n",
       "      <td>Adventure Scientist/Citizen Science</td>\n",
       "      <td>211009</td>\n",
       "      <td>https://www.ncei.noaa.gov/access/metadata/land...</td>\n",
       "      <td>-31.696000</td>\n",
       "      <td>-48.560000</td>\n",
       "      <td>8/11/2015 12:00:00 AM</td>\n",
       "      <td>a77121b2-e113-444e-82d9-7af11d62fdd2</td>\n",
       "      <td>-48.560000</td>\n",
       "      <td>-31.696000</td>\n",
       "    </tr>\n",
       "    <tr>\n",
       "      <th>1</th>\n",
       "      <td>6427</td>\n",
       "      <td>Pacific Ocean</td>\n",
       "      <td>NaN</td>\n",
       "      <td>NaN</td>\n",
       "      <td>Neuston net</td>\n",
       "      <td>0.000</td>\n",
       "      <td>pieces/m3</td>\n",
       "      <td>0-0.0005</td>\n",
       "      <td>Very Low</td>\n",
       "      <td>Law et al.2014</td>\n",
       "      <td>Law, K.L, S.K. Morét-Ferguson, D.S. Goodwin, E...</td>\n",
       "      <td>https://doi.org/10.1021/es4053076</td>\n",
       "      <td>Sea Education Association</td>\n",
       "      <td>SEA</td>\n",
       "      <td>211008</td>\n",
       "      <td>https://www.ncei.noaa.gov/access/metadata/land...</td>\n",
       "      <td>6.350000</td>\n",
       "      <td>-121.850000</td>\n",
       "      <td>12/18/2002 12:00:00 AM</td>\n",
       "      <td>be27c450-02ca-4261-8d89-cae21108e6cc</td>\n",
       "      <td>-121.850000</td>\n",
       "      <td>6.350000</td>\n",
       "    </tr>\n",
       "    <tr>\n",
       "      <th>2</th>\n",
       "      <td>10672</td>\n",
       "      <td>Pacific Ocean</td>\n",
       "      <td>NaN</td>\n",
       "      <td>NaN</td>\n",
       "      <td>Manta net</td>\n",
       "      <td>0.013</td>\n",
       "      <td>pieces/m3</td>\n",
       "      <td>0.005-1</td>\n",
       "      <td>Medium</td>\n",
       "      <td>Goldstein et al.2013</td>\n",
       "      <td>Goldstein, M.C., A.J. Titmus, M. Ford. 2013. S...</td>\n",
       "      <td>https://doi.org/10.1371/journal.pone.0080020</td>\n",
       "      <td>Scripps Institution of Oceanography-University...</td>\n",
       "      <td>Great Pacific Garbage Patch/SEAPLEX</td>\n",
       "      <td>253448</td>\n",
       "      <td>https://www.ncei.noaa.gov/access/metadata/land...</td>\n",
       "      <td>0.500000</td>\n",
       "      <td>-95.350000</td>\n",
       "      <td>10/17/2006 12:00:00 AM</td>\n",
       "      <td>23effcdd-35b7-4e1e-adb4-390693a287d3</td>\n",
       "      <td>-95.350000</td>\n",
       "      <td>0.500000</td>\n",
       "    </tr>\n",
       "    <tr>\n",
       "      <th>3</th>\n",
       "      <td>13921</td>\n",
       "      <td>Atlantic Ocean</td>\n",
       "      <td>NaN</td>\n",
       "      <td>NaN</td>\n",
       "      <td>Aluminum bucket</td>\n",
       "      <td>1368.000</td>\n",
       "      <td>pieces/m3</td>\n",
       "      <td>&gt;=10</td>\n",
       "      <td>Very High</td>\n",
       "      <td>Queiroz et al.2022</td>\n",
       "      <td>Queiroz, A.F.dos S., A.S. da Conceição, D. Che...</td>\n",
       "      <td>https://doi.org/10.1016/j.scitotenv.2022.156259</td>\n",
       "      <td>Federal University of Pará, Brazil</td>\n",
       "      <td>Amazon Continental Shelf</td>\n",
       "      <td>276482</td>\n",
       "      <td>https://www.ncei.noaa.gov/access/metadata/land...</td>\n",
       "      <td>0.631825</td>\n",
       "      <td>-45.398158</td>\n",
       "      <td>10/17/2018 12:00:00 AM</td>\n",
       "      <td>16d77822-0533-4116-97b9-0bdb592f3d6e</td>\n",
       "      <td>-45.398158</td>\n",
       "      <td>0.631825</td>\n",
       "    </tr>\n",
       "    <tr>\n",
       "      <th>4</th>\n",
       "      <td>9344</td>\n",
       "      <td>Pacific Ocean</td>\n",
       "      <td>NaN</td>\n",
       "      <td>NaN</td>\n",
       "      <td>Grab sample</td>\n",
       "      <td>0.001</td>\n",
       "      <td>pieces/m3</td>\n",
       "      <td>0.0005-0.005</td>\n",
       "      <td>Low</td>\n",
       "      <td>Barrows et al.2018</td>\n",
       "      <td>Barrows, A.P.W., S.E. Cathey, C.W. Petersen. 2...</td>\n",
       "      <td>https://doi.org/10.1016/j.envpol.2018.02.062</td>\n",
       "      <td>Adventure Scientist</td>\n",
       "      <td>Adventure Scientist/Citizen Science</td>\n",
       "      <td>211009</td>\n",
       "      <td>https://www.ncei.noaa.gov/access/metadata/land...</td>\n",
       "      <td>16.623000</td>\n",
       "      <td>-99.697800</td>\n",
       "      <td>1/3/2015 12:00:00 AM</td>\n",
       "      <td>b9e435e3-9e86-4143-8b51-877e5dcdc7a6</td>\n",
       "      <td>-99.697800</td>\n",
       "      <td>16.623000</td>\n",
       "    </tr>\n",
       "  </tbody>\n",
       "</table>\n",
       "</div>"
      ],
      "text/plain": [
       "   OBJECTID          Oceans Regions SubRegions  Sampling Method  Measurement  \\\n",
       "0      9676  Atlantic Ocean     NaN        NaN      Grab sample        0.018   \n",
       "1      6427   Pacific Ocean     NaN        NaN      Neuston net        0.000   \n",
       "2     10672   Pacific Ocean     NaN        NaN        Manta net        0.013   \n",
       "3     13921  Atlantic Ocean     NaN        NaN  Aluminum bucket     1368.000   \n",
       "4      9344   Pacific Ocean     NaN        NaN      Grab sample        0.001   \n",
       "\n",
       "        Unit Density Range Density Class       Short Reference  \\\n",
       "0  pieces/m3       0.005-1        Medium    Barrows et al.2018   \n",
       "1  pieces/m3      0-0.0005      Very Low        Law et al.2014   \n",
       "2  pieces/m3       0.005-1        Medium  Goldstein et al.2013   \n",
       "3  pieces/m3          >=10     Very High    Queiroz et al.2022   \n",
       "4  pieces/m3  0.0005-0.005           Low    Barrows et al.2018   \n",
       "\n",
       "                                      Long Reference  \\\n",
       "0  Barrows, A.P.W., S.E. Cathey, C.W. Petersen. 2...   \n",
       "1  Law, K.L, S.K. Morét-Ferguson, D.S. Goodwin, E...   \n",
       "2  Goldstein, M.C., A.J. Titmus, M. Ford. 2013. S...   \n",
       "3  Queiroz, A.F.dos S., A.S. da Conceição, D. Che...   \n",
       "4  Barrows, A.P.W., S.E. Cathey, C.W. Petersen. 2...   \n",
       "\n",
       "                                               DOI  \\\n",
       "0     https://doi.org/10.1016/j.envpol.2018.02.062   \n",
       "1                https://doi.org/10.1021/es4053076   \n",
       "2     https://doi.org/10.1371/journal.pone.0080020   \n",
       "3  https://doi.org/10.1016/j.scitotenv.2022.156259   \n",
       "4     https://doi.org/10.1016/j.envpol.2018.02.062   \n",
       "\n",
       "                                        Organization  \\\n",
       "0                                Adventure Scientist   \n",
       "1                          Sea Education Association   \n",
       "2  Scripps Institution of Oceanography-University...   \n",
       "3                 Federal University of Pará, Brazil   \n",
       "4                                Adventure Scientist   \n",
       "\n",
       "                              Keywords  Accession Number  \\\n",
       "0  Adventure Scientist/Citizen Science            211009   \n",
       "1                                  SEA            211008   \n",
       "2  Great Pacific Garbage Patch/SEAPLEX            253448   \n",
       "3             Amazon Continental Shelf            276482   \n",
       "4  Adventure Scientist/Citizen Science            211009   \n",
       "\n",
       "                                      Accession Link   Latitude   Longitude  \\\n",
       "0  https://www.ncei.noaa.gov/access/metadata/land... -31.696000  -48.560000   \n",
       "1  https://www.ncei.noaa.gov/access/metadata/land...   6.350000 -121.850000   \n",
       "2  https://www.ncei.noaa.gov/access/metadata/land...   0.500000  -95.350000   \n",
       "3  https://www.ncei.noaa.gov/access/metadata/land...   0.631825  -45.398158   \n",
       "4  https://www.ncei.noaa.gov/access/metadata/land...  16.623000  -99.697800   \n",
       "\n",
       "                     Date                              GlobalID           x  \\\n",
       "0   8/11/2015 12:00:00 AM  a77121b2-e113-444e-82d9-7af11d62fdd2  -48.560000   \n",
       "1  12/18/2002 12:00:00 AM  be27c450-02ca-4261-8d89-cae21108e6cc -121.850000   \n",
       "2  10/17/2006 12:00:00 AM  23effcdd-35b7-4e1e-adb4-390693a287d3  -95.350000   \n",
       "3  10/17/2018 12:00:00 AM  16d77822-0533-4116-97b9-0bdb592f3d6e  -45.398158   \n",
       "4    1/3/2015 12:00:00 AM  b9e435e3-9e86-4143-8b51-877e5dcdc7a6  -99.697800   \n",
       "\n",
       "           y  \n",
       "0 -31.696000  \n",
       "1   6.350000  \n",
       "2   0.500000  \n",
       "3   0.631825  \n",
       "4  16.623000  "
      ]
     },
     "execution_count": 2,
     "metadata": {},
     "output_type": "execute_result"
    }
   ],
   "source": [
    "df_mp = pd.read_csv(\"../../Archivos/Marine_Microplastics.csv\")\n",
    "df_mp.head()"
   ]
  },
  {
   "cell_type": "markdown",
   "id": "6239492b",
   "metadata": {},
   "source": [
    "## EDA 🧼🫧"
   ]
  },
  {
   "cell_type": "markdown",
   "id": "82f4155f",
   "metadata": {},
   "source": [
    "### Primera exploración 🔎"
   ]
  },
  {
   "cell_type": "code",
   "execution_count": 3,
   "id": "89caa6d4",
   "metadata": {},
   "outputs": [
    {
     "data": {
      "text/plain": [
       "(20425, 22)"
      ]
     },
     "execution_count": 3,
     "metadata": {},
     "output_type": "execute_result"
    }
   ],
   "source": [
    "# Forma del conjunto de datos, en (filas, columnas):\n",
    "df_mp.shape"
   ]
  },
  {
   "cell_type": "code",
   "execution_count": 4,
   "id": "2ac6e099",
   "metadata": {},
   "outputs": [
    {
     "name": "stdout",
     "output_type": "stream",
     "text": [
      "\n",
      "    ===================== Informe de Datos =====================\n",
      "    \n",
      "    Porcentaje de Nulos por Columna:\n",
      "    ------------------------------------------------------------\n",
      "    OBJECTID             0.000000\n",
      "Oceans               1.326805\n",
      "Regions             56.499388\n",
      "SubRegions          93.600979\n",
      "Sampling Method      0.000000\n",
      "Measurement         28.455324\n",
      "Unit                 0.000000\n",
      "Density Range        0.000000\n",
      "Density Class        0.000000\n",
      "Short Reference      0.000000\n",
      "Long Reference       0.000000\n",
      "DOI                  0.000000\n",
      "Organization         0.000000\n",
      "Keywords             0.088127\n",
      "Accession Number     0.000000\n",
      "Accession Link       0.000000\n",
      "Latitude             0.000000\n",
      "Longitude            0.000000\n",
      "Date                 0.000000\n",
      "GlobalID             0.000000\n",
      "x                    0.000000\n",
      "y                    0.000000\n",
      "    \n",
      "    ------------------------------------------------------------\n",
      "    Duplicados:\n",
      "    ------------------------------------------------------------\n",
      "    No hay duplicados\n",
      "    \n",
      "    ============================================================\n",
      "    \n"
     ]
    }
   ],
   "source": [
    "# Función para conocer nulos y duplicados en un informe. Next step--> ETL\n",
    "\n",
    "def nulos_duplicados(df_mp):\n",
    "    # Cálculo del porcentaje de nulos\n",
    "    porcentaje_nulos = df_mp.isna().sum() / df_mp.shape[0] * 100\n",
    "    \n",
    "    # Verificación de duplicados\n",
    "    duplicados = df_mp.duplicated().sum()\n",
    "    if duplicados == 0:\n",
    "        mensaje_duplicados = \"No hay duplicados\"\n",
    "    else:\n",
    "        mensaje_duplicados = f\"Hay {duplicados} duplicados\"\n",
    "    \n",
    "    # Creación de un reporte bonito y visual\n",
    "    reporte = f\"\"\"\n",
    "    ===================== Informe de Datos =====================\n",
    "    \n",
    "    Porcentaje de Nulos por Columna:\n",
    "    ------------------------------------------------------------\n",
    "    {porcentaje_nulos.to_string()}\n",
    "    \n",
    "    ------------------------------------------------------------\n",
    "    Duplicados:\n",
    "    ------------------------------------------------------------\n",
    "    {mensaje_duplicados}\n",
    "    \n",
    "    ============================================================\n",
    "    \"\"\"\n",
    "    \n",
    "    # Imprimir directamente el reporte\n",
    "    print(reporte)\n",
    "\n",
    "# Ejemplo de uso\n",
    "# df_mp = pd.DataFrame(...)\n",
    "\n",
    "# Llamar directamente a la función\n",
    "nulos_duplicados(df_mp)\n"
   ]
  },
  {
   "cell_type": "markdown",
   "id": "81c99b4e",
   "metadata": {},
   "source": [
    "### Gestión de duplicados y nulos ✏️"
   ]
  },
  {
   "cell_type": "code",
   "execution_count": 5,
   "id": "786fedf4",
   "metadata": {},
   "outputs": [],
   "source": [
    "# Gestión de duplicados: No procede"
   ]
  },
  {
   "cell_type": "code",
   "execution_count": 6,
   "id": "9eab9ead",
   "metadata": {},
   "outputs": [],
   "source": [
    "# Gestión de nulos:"
   ]
  },
  {
   "cell_type": "code",
   "execution_count": 7,
   "id": "77ac2037",
   "metadata": {},
   "outputs": [
    {
     "data": {
      "text/html": [
       "<div>\n",
       "<style scoped>\n",
       "    .dataframe tbody tr th:only-of-type {\n",
       "        vertical-align: middle;\n",
       "    }\n",
       "\n",
       "    .dataframe tbody tr th {\n",
       "        vertical-align: top;\n",
       "    }\n",
       "\n",
       "    .dataframe thead th {\n",
       "        text-align: right;\n",
       "    }\n",
       "</style>\n",
       "<table border=\"1\" class=\"dataframe\">\n",
       "  <thead>\n",
       "    <tr style=\"text-align: right;\">\n",
       "      <th></th>\n",
       "      <th>Latitude</th>\n",
       "      <th>Longitude</th>\n",
       "    </tr>\n",
       "    <tr>\n",
       "      <th>Oceans</th>\n",
       "      <th></th>\n",
       "      <th></th>\n",
       "    </tr>\n",
       "  </thead>\n",
       "  <tbody>\n",
       "    <tr>\n",
       "      <th>Indian Ocean</th>\n",
       "      <td>-26.203959</td>\n",
       "      <td>28.731356</td>\n",
       "    </tr>\n",
       "    <tr>\n",
       "      <th>Pacific Ocean</th>\n",
       "      <td>23.412917</td>\n",
       "      <td>-137.379422</td>\n",
       "    </tr>\n",
       "    <tr>\n",
       "      <th>Atlantic Ocean</th>\n",
       "      <td>28.981572</td>\n",
       "      <td>-65.054741</td>\n",
       "    </tr>\n",
       "    <tr>\n",
       "      <th>Arctic Ocean</th>\n",
       "      <td>77.023468</td>\n",
       "      <td>-40.293646</td>\n",
       "    </tr>\n",
       "  </tbody>\n",
       "</table>\n",
       "</div>"
      ],
      "text/plain": [
       "                 Latitude   Longitude\n",
       "Oceans                               \n",
       "Indian Ocean   -26.203959   28.731356\n",
       "Pacific Ocean   23.412917 -137.379422\n",
       "Atlantic Ocean  28.981572  -65.054741\n",
       "Arctic Ocean    77.023468  -40.293646"
      ]
     },
     "execution_count": 7,
     "metadata": {},
     "output_type": "execute_result"
    }
   ],
   "source": [
    "#Ocean\n",
    "#Relacionar oceanos con Longitud y Latitud (COMPROBACIONES)\n",
    "df_mp[df_mp['Oceans'].notnull()].groupby('Oceans')[['Latitude', 'Longitude']].mean().sort_values('Latitude')"
   ]
  },
  {
   "cell_type": "code",
   "execution_count": 8,
   "id": "2c13f8af",
   "metadata": {},
   "outputs": [],
   "source": [
    "# Primero, voy a crear una columna nueva categórica, para crear un map en los oceanos, y poder imputar con latitud\n",
    "\n",
    "df_mp[\"Oceans\"].unique()\n",
    "dicc ={'Atlantic Ocean':1,'Pacific Ocean':2,'Arctic Ocean':3,'Indian Ocean':4, \"nan\":None}\n",
    "df_mp['Oceans_cat']=df_mp['Oceans'].map(dicc)"
   ]
  },
  {
   "cell_type": "code",
   "execution_count": 9,
   "id": "965598c0",
   "metadata": {},
   "outputs": [
    {
     "data": {
      "text/plain": [
       "' la columna \"Oceans\" fue restaurada, y \\nlos valores nulos fueron reemplazados por los océanos \\ncorrespondientes, obteniendo una columna sin valores \\nnulos. '"
      ]
     },
     "execution_count": 9,
     "metadata": {},
     "output_type": "execute_result"
    }
   ],
   "source": [
    "# Imputación:\n",
    "\n",
    "imputer_knn = KNNImputer(n_neighbors=3)\n",
    "imputado = imputer_knn.fit_transform(df_mp[[\"Oceans_cat\", \"Latitude\"]])\n",
    "df_mp[[\"Ocean_cat_knn\", \"Latitude_knn\"]] = imputado\n",
    "\n",
    "#Borramos las columnas que ya no nos interesan\n",
    "df_mp = df_mp.drop(columns=[\"Oceans_cat\", \"Latitude_knn\"])\n",
    "#Revertimos el proceso, para asignar a cada numero imputado, el Oceano correspondiente\n",
    "dicc2 ={1:'Atlantic Ocean',2:\"Pacific Ocean\",3:'Arctic Ocean',4:'Indian Ocean'}\n",
    "df_mp['Oceans'] = df_mp['Oceans'].fillna(df_mp['Ocean_cat_knn'].round().astype(int).map(dicc2))\n",
    "# Borramos columnas no relevantes\n",
    "df_mp=df_mp.drop(columns=[\"Ocean_cat_knn\"])\n",
    "\n",
    "\"\"\" la columna \"Oceans\" fue restaurada, y \n",
    "los valores nulos fueron reemplazados por los océanos \n",
    "correspondientes, obteniendo una columna sin valores \n",
    "nulos. \"\"\"\n"
   ]
  },
  {
   "cell_type": "code",
   "execution_count": 10,
   "id": "11a4c3d5",
   "metadata": {},
   "outputs": [
    {
     "data": {
      "text/plain": [
       "array(['Grab sample', 'Neuston net', 'Manta net', 'Aluminum bucket',\n",
       "       'Megacorer', 'Intake seawater pump', 'Hand picking',\n",
       "       'PVC cylinder', 'Van Dorn sampler', 'Remotely operated vehicle',\n",
       "       'Metal spoon', 'AVANI net', 'Plankton net', 'Day grab',\n",
       "       'Stainless steel spoon', 'Shipek grab sampler',\n",
       "       'Petite Ponar benthic grab', 'Van Veen grab sampler',\n",
       "       'CTD rosette sampler'], dtype=object)"
      ]
     },
     "execution_count": 10,
     "metadata": {},
     "output_type": "execute_result"
    }
   ],
   "source": [
    "# Comprobaciones varias:\n",
    "\n",
    "df_mp[\"Sampling Method\"].unique()"
   ]
  },
  {
   "cell_type": "code",
   "execution_count": 11,
   "id": "5d6ec19e",
   "metadata": {},
   "outputs": [],
   "source": [
    "# Ver si hay relación entre Sampling Method y Unit."
   ]
  },
  {
   "cell_type": "code",
   "execution_count": 12,
   "id": "e0860d16",
   "metadata": {},
   "outputs": [
    {
     "data": {
      "text/plain": [
       "array(['pieces/m3', 'pieces kg-1 d.w.', 'pieces/10 mins'], dtype=object)"
      ]
     },
     "execution_count": 12,
     "metadata": {},
     "output_type": "execute_result"
    }
   ],
   "source": [
    "# Comprobaciones varias:\n",
    "df_mp[\"Unit\"].unique()"
   ]
  },
  {
   "cell_type": "code",
   "execution_count": 13,
   "id": "5f7e1421",
   "metadata": {},
   "outputs": [
    {
     "data": {
      "text/html": [
       "<div>\n",
       "<style scoped>\n",
       "    .dataframe tbody tr th:only-of-type {\n",
       "        vertical-align: middle;\n",
       "    }\n",
       "\n",
       "    .dataframe tbody tr th {\n",
       "        vertical-align: top;\n",
       "    }\n",
       "\n",
       "    .dataframe thead th {\n",
       "        text-align: right;\n",
       "    }\n",
       "</style>\n",
       "<table border=\"1\" class=\"dataframe\">\n",
       "  <thead>\n",
       "    <tr style=\"text-align: right;\">\n",
       "      <th>Unit</th>\n",
       "      <th>pieces kg-1 d.w.</th>\n",
       "      <th>pieces/10 mins</th>\n",
       "      <th>pieces/m3</th>\n",
       "      <th>All</th>\n",
       "    </tr>\n",
       "    <tr>\n",
       "      <th>Sampling Method</th>\n",
       "      <th></th>\n",
       "      <th></th>\n",
       "      <th></th>\n",
       "      <th></th>\n",
       "    </tr>\n",
       "  </thead>\n",
       "  <tbody>\n",
       "    <tr>\n",
       "      <th>AVANI net</th>\n",
       "      <td>0</td>\n",
       "      <td>0</td>\n",
       "      <td>18</td>\n",
       "      <td>18</td>\n",
       "    </tr>\n",
       "    <tr>\n",
       "      <th>Aluminum bucket</th>\n",
       "      <td>0</td>\n",
       "      <td>0</td>\n",
       "      <td>57</td>\n",
       "      <td>57</td>\n",
       "    </tr>\n",
       "    <tr>\n",
       "      <th>CTD rosette sampler</th>\n",
       "      <td>0</td>\n",
       "      <td>0</td>\n",
       "      <td>36</td>\n",
       "      <td>36</td>\n",
       "    </tr>\n",
       "    <tr>\n",
       "      <th>Day grab</th>\n",
       "      <td>17</td>\n",
       "      <td>0</td>\n",
       "      <td>0</td>\n",
       "      <td>17</td>\n",
       "    </tr>\n",
       "    <tr>\n",
       "      <th>Grab sample</th>\n",
       "      <td>0</td>\n",
       "      <td>0</td>\n",
       "      <td>1181</td>\n",
       "      <td>1181</td>\n",
       "    </tr>\n",
       "    <tr>\n",
       "      <th>Hand picking</th>\n",
       "      <td>0</td>\n",
       "      <td>5812</td>\n",
       "      <td>18</td>\n",
       "      <td>5830</td>\n",
       "    </tr>\n",
       "    <tr>\n",
       "      <th>Intake seawater pump</th>\n",
       "      <td>0</td>\n",
       "      <td>0</td>\n",
       "      <td>181</td>\n",
       "      <td>181</td>\n",
       "    </tr>\n",
       "    <tr>\n",
       "      <th>Manta net</th>\n",
       "      <td>0</td>\n",
       "      <td>0</td>\n",
       "      <td>2342</td>\n",
       "      <td>2342</td>\n",
       "    </tr>\n",
       "    <tr>\n",
       "      <th>Megacorer</th>\n",
       "      <td>90</td>\n",
       "      <td>0</td>\n",
       "      <td>0</td>\n",
       "      <td>90</td>\n",
       "    </tr>\n",
       "    <tr>\n",
       "      <th>Metal spoon</th>\n",
       "      <td>76</td>\n",
       "      <td>0</td>\n",
       "      <td>0</td>\n",
       "      <td>76</td>\n",
       "    </tr>\n",
       "    <tr>\n",
       "      <th>Neuston net</th>\n",
       "      <td>0</td>\n",
       "      <td>0</td>\n",
       "      <td>9830</td>\n",
       "      <td>9830</td>\n",
       "    </tr>\n",
       "    <tr>\n",
       "      <th>PVC cylinder</th>\n",
       "      <td>0</td>\n",
       "      <td>0</td>\n",
       "      <td>370</td>\n",
       "      <td>370</td>\n",
       "    </tr>\n",
       "    <tr>\n",
       "      <th>Petite Ponar benthic grab</th>\n",
       "      <td>36</td>\n",
       "      <td>0</td>\n",
       "      <td>0</td>\n",
       "      <td>36</td>\n",
       "    </tr>\n",
       "    <tr>\n",
       "      <th>Plankton net</th>\n",
       "      <td>0</td>\n",
       "      <td>0</td>\n",
       "      <td>74</td>\n",
       "      <td>74</td>\n",
       "    </tr>\n",
       "    <tr>\n",
       "      <th>Remotely operated vehicle</th>\n",
       "      <td>40</td>\n",
       "      <td>0</td>\n",
       "      <td>0</td>\n",
       "      <td>40</td>\n",
       "    </tr>\n",
       "    <tr>\n",
       "      <th>Shipek grab sampler</th>\n",
       "      <td>9</td>\n",
       "      <td>0</td>\n",
       "      <td>0</td>\n",
       "      <td>9</td>\n",
       "    </tr>\n",
       "    <tr>\n",
       "      <th>Stainless steel spoon</th>\n",
       "      <td>0</td>\n",
       "      <td>0</td>\n",
       "      <td>50</td>\n",
       "      <td>50</td>\n",
       "    </tr>\n",
       "    <tr>\n",
       "      <th>Van Dorn sampler</th>\n",
       "      <td>0</td>\n",
       "      <td>0</td>\n",
       "      <td>181</td>\n",
       "      <td>181</td>\n",
       "    </tr>\n",
       "    <tr>\n",
       "      <th>Van Veen grab sampler</th>\n",
       "      <td>7</td>\n",
       "      <td>0</td>\n",
       "      <td>0</td>\n",
       "      <td>7</td>\n",
       "    </tr>\n",
       "    <tr>\n",
       "      <th>All</th>\n",
       "      <td>275</td>\n",
       "      <td>5812</td>\n",
       "      <td>14338</td>\n",
       "      <td>20425</td>\n",
       "    </tr>\n",
       "  </tbody>\n",
       "</table>\n",
       "</div>"
      ],
      "text/plain": [
       "Unit                       pieces kg-1 d.w.  pieces/10 mins  pieces/m3    All\n",
       "Sampling Method                                                              \n",
       "AVANI net                                 0               0         18     18\n",
       "Aluminum bucket                           0               0         57     57\n",
       "CTD rosette sampler                       0               0         36     36\n",
       "Day grab                                 17               0          0     17\n",
       "Grab sample                               0               0       1181   1181\n",
       "Hand picking                              0            5812         18   5830\n",
       "Intake seawater pump                      0               0        181    181\n",
       "Manta net                                 0               0       2342   2342\n",
       "Megacorer                                90               0          0     90\n",
       "Metal spoon                              76               0          0     76\n",
       "Neuston net                               0               0       9830   9830\n",
       "PVC cylinder                              0               0        370    370\n",
       "Petite Ponar benthic grab                36               0          0     36\n",
       "Plankton net                              0               0         74     74\n",
       "Remotely operated vehicle                40               0          0     40\n",
       "Shipek grab sampler                       9               0          0      9\n",
       "Stainless steel spoon                     0               0         50     50\n",
       "Van Dorn sampler                          0               0        181    181\n",
       "Van Veen grab sampler                     7               0          0      7\n",
       "All                                     275            5812      14338  20425"
      ]
     },
     "metadata": {},
     "output_type": "display_data"
    }
   ],
   "source": [
    "# Comprobaciones varias:\n",
    "# saber a que método corresponden las medidas\n",
    "# Tabla de contingencia entre Métodos y Unidades de Medida\n",
    "contingencia = pd.crosstab(df_mp['Sampling Method'], df_mp['Unit'], margins=True)\n",
    "display(contingencia)"
   ]
  },
  {
   "cell_type": "code",
   "execution_count": 14,
   "id": "caf00d4a",
   "metadata": {},
   "outputs": [],
   "source": [
    "# Se puede observar, que excepto \"hand picking\" las demás tienen una unidad definida.\n",
    "# Entonces, por la unidad, podemos sacar el método que se utilizó, obviando \"hand picking\"\n",
    "\n",
    "#Como tenemos nulos en measurement, no en unit."
   ]
  },
  {
   "cell_type": "code",
   "execution_count": 15,
   "id": "92b2d2dc",
   "metadata": {},
   "outputs": [
    {
     "data": {
      "text/plain": [
       "Sampling Method\n",
       "AVANI net                       0\n",
       "Aluminum bucket                 0\n",
       "CTD rosette sampler             0\n",
       "Day grab                        0\n",
       "Grab sample                     0\n",
       "Hand picking                 5812\n",
       "Intake seawater pump            0\n",
       "Manta net                       0\n",
       "Megacorer                       0\n",
       "Metal spoon                     0\n",
       "Neuston net                     0\n",
       "PVC cylinder                    0\n",
       "Petite Ponar benthic grab       0\n",
       "Plankton net                    0\n",
       "Remotely operated vehicle       0\n",
       "Shipek grab sampler             0\n",
       "Stainless steel spoon           0\n",
       "Van Dorn sampler                0\n",
       "Van Veen grab sampler           0\n",
       "Name: Measurement, dtype: int64"
      ]
     },
     "execution_count": 15,
     "metadata": {},
     "output_type": "execute_result"
    }
   ],
   "source": [
    "# Comprobaciones varias:\n",
    "\n",
    "df_mp.groupby(\"Sampling Method\")[\"Measurement\"].apply(lambda x: x.isnull().sum())\n",
    "# Podemos ver que todos los nulos son de Hand picking, \"recogido a mano\"--> No relevante --> No imputación"
   ]
  },
  {
   "cell_type": "markdown",
   "id": "470a681e",
   "metadata": {},
   "source": [
    "### Transformaciones 💻"
   ]
  },
  {
   "cell_type": "code",
   "execution_count": 16,
   "id": "f40820f1",
   "metadata": {},
   "outputs": [],
   "source": [
    "# Transformaciones:"
   ]
  },
  {
   "cell_type": "code",
   "execution_count": 17,
   "id": "8cf3deee",
   "metadata": {},
   "outputs": [
    {
     "name": "stdout",
     "output_type": "stream",
     "text": [
      "    Date_Only    Time_Only\n",
      "0   8/11/2015  12:00:00 AM\n",
      "1  12/18/2002  12:00:00 AM\n",
      "2  10/17/2006  12:00:00 AM\n",
      "3  10/17/2018  12:00:00 AM\n",
      "4    1/3/2015  12:00:00 AM\n"
     ]
    }
   ],
   "source": [
    "# Separar la columna 'Date' en fecha y hora por el espacio\n",
    "# En caso de que alguna fila no tenga espacio, la función llenará con NaN\n",
    "df_mp[['Date_Only', 'Time_Only']] = df_mp['Date'].str.split(' ', expand=True, n=1)\n",
    "\n",
    "# Verificar el resultado\n",
    "print(df_mp[['Date_Only', 'Time_Only']].head())\n"
   ]
  },
  {
   "cell_type": "code",
   "execution_count": 18,
   "id": "fae73856",
   "metadata": {},
   "outputs": [
    {
     "data": {
      "text/plain": [
       "array(['12:00:00 AM'], dtype=object)"
      ]
     },
     "execution_count": 18,
     "metadata": {},
     "output_type": "execute_result"
    }
   ],
   "source": [
    "df_mp[\"Time_Only\"].unique()\n",
    "#Todas las horas son las 12 AM, podemos prescindir de ese dato:"
   ]
  },
  {
   "cell_type": "code",
   "execution_count": 19,
   "id": "e0282d2e",
   "metadata": {},
   "outputs": [],
   "source": [
    "df_mp['Date'] = pd.to_datetime(df_mp['Date'], format='%m/%d/%Y %I:%M:%S %p', errors='coerce')"
   ]
  },
  {
   "cell_type": "code",
   "execution_count": 20,
   "id": "e4fddddf",
   "metadata": {},
   "outputs": [],
   "source": [
    "# Extraer el año\n",
    "df_mp['Year'] = df_mp['Date'].dt.year\n",
    "\n",
    "# Extraer el mes\n",
    "df_mp['Month'] = df_mp['Date'].dt.month\n",
    "\n",
    "# Extraer la hora\n",
    "df_mp['Hour'] = df_mp['Date'].dt.hour\n"
   ]
  },
  {
   "cell_type": "code",
   "execution_count": 21,
   "id": "e4485f44",
   "metadata": {},
   "outputs": [],
   "source": [
    "# Time_Only y Hour, las podemos borrar\n",
    "\n",
    "# Siempre 12:00 AM\n",
    "\n",
    "df_mp = df_mp.drop(columns=[\"Time_Only\", \"Hour\",\"x\",\"y\",'SubRegions','Date_Only'])"
   ]
  },
  {
   "cell_type": "code",
   "execution_count": 22,
   "id": "a5f6788a",
   "metadata": {},
   "outputs": [
    {
     "data": {
      "text/plain": [
       "47"
      ]
     },
     "execution_count": 22,
     "metadata": {},
     "output_type": "execute_result"
    }
   ],
   "source": [
    "# Ajuste en los valores de Regions:\n",
    "\n",
    "df_mp['Regions'].nunique() # Número de valores únicos"
   ]
  },
  {
   "cell_type": "code",
   "execution_count": 23,
   "id": "5b2bf41e",
   "metadata": {},
   "outputs": [
    {
     "name": "stdout",
     "output_type": "stream",
     "text": [
      "[nan 'caribbean sea' 'mediterranean sea' 'north sea'\n",
      " 'inner seas off the west coast of scotland' 'new york bight'\n",
      " 'gulf of mexico' 'gulf of california' 'celtic sea'\n",
      " 'coastal waters of florida'\n",
      " 'coastal waters of southeast alaska and british columbia'\n",
      " 'gulf of alaska' 'stellwagen bank national marine sanctuary'\n",
      " \"irish sea and st. george's channel\" 'norwegian sea' 'kattegat'\n",
      " 'english channel' 'gulf of st. lawrence' 'baltic sea'\n",
      " 'papahanaumokuakea marine national monument' 'bay of biscay'\n",
      " 'northwestern passages' 'monterey bay national marine sanctuary'\n",
      " 'skagerrak strait'\n",
      " 'the coastal waters of southeast alaska and british columbia'\n",
      " 'beaufort sea' 'davis strait' 'greenland sea' 'bay of fundy'\n",
      " 'gulf of bothnia' 'baffin bay' 'black sea'\n",
      " 'florida keys national marine sanctuary' 'labrador sea' 'hudson strait'\n",
      " 'mozambique channel' 'red sea' 'olympic coast national marine sanctuary'\n",
      " 'rio de la plata' 'channel islands national marine sanctuary'\n",
      " 'chukchi sea' 'bering sea' 'barents sea' 'white sea'\n",
      " 'greater farallones national marine sanctuary'\n",
      " 'hawaiian islands humpback whale national marine sanctuary'\n",
      " 'gulf of guinea']\n"
     ]
    }
   ],
   "source": [
    "# Limpiar espacios en blanco adicionales y normalizar el texto\n",
    "df_mp['Regions'] = df_mp['Regions'].str.strip()  # Eliminar espacios antes y después\n",
    "df_mp['Regions'] = df_mp['Regions'].str.lower()  # Convertir a minúsculas (opcional, solo si es necesario)\n",
    "\n",
    "# Verificar los valores únicos después de la limpieza\n",
    "print(df_mp['Regions'].unique())\n",
    "\n",
    "#Porque Rio de la plata aparecía repetido"
   ]
  },
  {
   "cell_type": "code",
   "execution_count": 24,
   "id": "1ab61559",
   "metadata": {},
   "outputs": [
    {
     "data": {
      "text/plain": [
       "46"
      ]
     },
     "execution_count": 24,
     "metadata": {},
     "output_type": "execute_result"
    }
   ],
   "source": [
    "df_mp['Regions'].nunique() # Obtenemos un número menos que antes"
   ]
  },
  {
   "cell_type": "code",
   "execution_count": 25,
   "id": "8155744f",
   "metadata": {},
   "outputs": [
    {
     "data": {
      "text/plain": [
       "'Geopy es una librería de Python que proporciona herramientas para interactuar con APIs\\nde geolocalización, como las de Google Maps, Nominatim de OpenStreetMap, y otros servicios\\nde geocodificación y geolocalización inversa. Permite convertir coordenadas geográficas\\nen direcciones (geocodificación inversa) y viceversa (geocodificación directa).\\nTambién ofrece soporte para el cálculo de distancias y la geolocalización en diferentes coordenadas.'"
      ]
     },
     "execution_count": 25,
     "metadata": {},
     "output_type": "execute_result"
    }
   ],
   "source": [
    "# Sacar las regiones con la latitud y la longitud, para imputar las regiones que faltan. NO CORRECTA LA IMPUTACION\n",
    "\n",
    "# !pip install geopy\n",
    "\n",
    "\"\"\"Geopy es una librería de Python que proporciona herramientas para interactuar con APIs\n",
    "de geolocalización, como las de Google Maps, Nominatim de OpenStreetMap, y otros servicios\n",
    "de geocodificación y geolocalización inversa. Permite convertir coordenadas geográficas\n",
    "en direcciones (geocodificación inversa) y viceversa (geocodificación directa).\n",
    "También ofrece soporte para el cálculo de distancias y la geolocalización en diferentes coordenadas.\"\"\"\n"
   ]
  },
  {
   "cell_type": "code",
   "execution_count": 26,
   "id": "c0d7c13f",
   "metadata": {},
   "outputs": [
    {
     "name": "stdout",
     "output_type": "stream",
     "text": [
      "Oceans\n",
      "Arctic Ocean      [nan, norwegian sea, northwestern passages, be...\n",
      "Atlantic Ocean    [nan, caribbean sea, mediterranean sea, north ...\n",
      "Indian Ocean                     [nan, mozambique channel, red sea]\n",
      "Pacific Ocean     [nan, gulf of california, coastal waters of so...\n",
      "Name: Regions, dtype: object\n"
     ]
    }
   ],
   "source": [
    "# Agrupar por 'Oceans' y obtener las regiones únicas para cada océano\n",
    "oceans_regions = df_mp.groupby('Oceans')['Regions'].unique()\n",
    "\n",
    "# Mostrar el resultado\n",
    "print(oceans_regions)\n"
   ]
  },
  {
   "cell_type": "code",
   "execution_count": 27,
   "id": "0b93832c",
   "metadata": {},
   "outputs": [
    {
     "name": "stdout",
     "output_type": "stream",
     "text": [
      "                               Most Frequent Region  Frequency  Percentage\n",
      "Oceans                                                                    \n",
      "Arctic Ocean          (Arctic Ocean, greenland sea)         35   19.662921\n",
      "Atlantic Ocean     (Atlantic Ocean, gulf of mexico)       4817   31.083436\n",
      "Indian Ocean     (Indian Ocean, mozambique channel)          3   15.000000\n",
      "Pacific Ocean   (Pacific Ocean, gulf of california)        116    2.452431\n"
     ]
    }
   ],
   "source": [
    "# Agrupar por 'Oceans' y contar las ocurrencias de cada 'Regions'\n",
    "oceans_regions_count = df_mp.groupby('Oceans')['Regions'].value_counts()\n",
    "\n",
    "# Encontrar la región más frecuente en cada océano\n",
    "most_frequent_region = oceans_regions_count.groupby('Oceans').idxmax()\n",
    "\n",
    "# Contar la frecuencia de la región más frecuente\n",
    "most_frequent_count = oceans_regions_count.groupby('Oceans').max()\n",
    "\n",
    "# Calcular el total de registros por océano\n",
    "total_by_ocean = df_mp.groupby('Oceans').size()\n",
    "\n",
    "# Calcular el porcentaje de la región más frecuente dentro de cada océano\n",
    "percentage_most_frequent = (most_frequent_count / total_by_ocean) * 100\n",
    "\n",
    "# Crear un DataFrame con la región más frecuente y su porcentaje\n",
    "result = pd.DataFrame({\n",
    "    'Most Frequent Region': most_frequent_region,\n",
    "    'Frequency': most_frequent_count,\n",
    "    'Percentage': percentage_most_frequent\n",
    "})\n",
    "\n",
    "# Mostrar el resultado\n",
    "print(result)\n"
   ]
  },
  {
   "cell_type": "code",
   "execution_count": 28,
   "id": "bc1673f2",
   "metadata": {},
   "outputs": [],
   "source": [
    "# No tenemos grandes porcentajes para imputar por la moda. De momento, dejamos así los datos, usaremos geopy en un futuro si es necesario"
   ]
  },
  {
   "cell_type": "markdown",
   "id": "1e8ffda6",
   "metadata": {},
   "source": [
    "### Resultados ✅"
   ]
  },
  {
   "cell_type": "code",
   "execution_count": 30,
   "id": "8c9db603",
   "metadata": {},
   "outputs": [],
   "source": [
    "# Yo creo que de momento, con este conjunto de datos limpio, podemos trabajar, para las cuestiones que se nos da:"
   ]
  },
  {
   "cell_type": "code",
   "execution_count": 31,
   "id": "564e0765",
   "metadata": {},
   "outputs": [],
   "source": [
    "# Guardar csv filtrado de Sugarcane\n",
    "\n",
    "# df_mp.to_csv('Clean_Microplastics.csv', index=False)"
   ]
  },
  {
   "cell_type": "code",
   "execution_count": 32,
   "id": "c1468408",
   "metadata": {},
   "outputs": [
    {
     "data": {
      "text/plain": [
       "(20425, 21)"
      ]
     },
     "execution_count": 32,
     "metadata": {},
     "output_type": "execute_result"
    }
   ],
   "source": [
    "df_mp.shape"
   ]
  },
  {
   "cell_type": "code",
   "execution_count": 33,
   "id": "617704fc",
   "metadata": {},
   "outputs": [
    {
     "name": "stdout",
     "output_type": "stream",
     "text": [
      "\n",
      "    ===================== Informe de Datos =====================\n",
      "    \n",
      "    Porcentaje de Nulos por Columna:\n",
      "    ------------------------------------------------------------\n",
      "    OBJECTID             0.000000\n",
      "Oceans               0.000000\n",
      "Regions             56.499388\n",
      "Sampling Method      0.000000\n",
      "Measurement         28.455324\n",
      "Unit                 0.000000\n",
      "Density Range        0.000000\n",
      "Density Class        0.000000\n",
      "Short Reference      0.000000\n",
      "Long Reference       0.000000\n",
      "DOI                  0.000000\n",
      "Organization         0.000000\n",
      "Keywords             0.088127\n",
      "Accession Number     0.000000\n",
      "Accession Link       0.000000\n",
      "Latitude             0.000000\n",
      "Longitude            0.000000\n",
      "Date                 0.000000\n",
      "GlobalID             0.000000\n",
      "Year                 0.000000\n",
      "Month                0.000000\n",
      "    \n",
      "    ------------------------------------------------------------\n",
      "    Duplicados:\n",
      "    ------------------------------------------------------------\n",
      "    No hay duplicados\n",
      "    \n",
      "    ============================================================\n",
      "    \n"
     ]
    }
   ],
   "source": [
    "nulos_duplicados(df_mp)"
   ]
  }
 ],
 "metadata": {
  "kernelspec": {
   "display_name": "Python 3",
   "language": "python",
   "name": "python3"
  },
  "language_info": {
   "codemirror_mode": {
    "name": "ipython",
    "version": 3
   },
   "file_extension": ".py",
   "mimetype": "text/x-python",
   "name": "python",
   "nbconvert_exporter": "python",
   "pygments_lexer": "ipython3",
   "version": "3.12.7"
  }
 },
 "nbformat": 4,
 "nbformat_minor": 5
}
