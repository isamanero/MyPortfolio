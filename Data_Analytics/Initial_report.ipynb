{
 "cells": [
  {
   "cell_type": "markdown",
   "id": "39641c8e",
   "metadata": {},
   "source": [
    "# Initial report: Función para informe inicial de datos 📋"
   ]
  },
  {
   "cell_type": "markdown",
   "id": "d761c809",
   "metadata": {},
   "source": [
    "## Genera un informe rápido con tipos de datos, porcentaje de nulos y duplicados.\n",
    "## Ideal para integrarse en procesos de limpieza o pipelines ETL."
   ]
  },
  {
   "cell_type": "code",
   "execution_count": null,
   "id": "ef5d424b",
   "metadata": {},
   "outputs": [],
   "source": [
    "\"\"\"Función para obtener un informe rápido de nulos y duplicados\n",
    "   de un DataFrame:\"\"\"\n",
    "\n",
    "def initial_report(df): #Esta función actua directamente con el DF como argumento.\n",
    "\n",
    "    # Calculamos el porcentaje de nulos\n",
    "    porcentaje_nulos = df.isna().sum()/df.shape[0]*100\n",
    "\n",
    "    # Tipo de dato por columna:\n",
    "    tipos_datos = df.dtypes\n",
    "\n",
    "    # Verificación de duplicados\n",
    "    duplicados = df.duplicated().sum()\n",
    "    if duplicados == 0: # Ponemos un condicional\n",
    "        mensaje_duplicados = \"No hay duplicados\"\n",
    "    else:\n",
    "        mensaje_duplicados = f\"Hay {duplicados} duplicados\"\n",
    "\n",
    "    # Unimos la información de los nulos y el tipo de dato de cada columna\n",
    "    info_columnas = pd.DataFrame({'Tipo de Dato': tipos_datos,'Porcentaje de Nulos': porcentaje_nulos})\n",
    "    # Crear string para el informe\n",
    "    info_str = info_columnas.to_string()\n",
    "\n",
    "    # Este es el informe visual que recibimos:\n",
    "    informe = f\"\"\"\n",
    "    ========= Informe de Datos 📋 ==========\n",
    "    \n",
    "    📌 % Nulos y tipo de dato:\n",
    "    -------------------------------------\n",
    "    {info_str}\n",
    "    -------------------------------------\n",
    "    🟰Duplicados:\n",
    "    -------------------------------------\n",
    "    {mensaje_duplicados}\n",
    "    =====================================\n",
    "    \"\"\"\n",
    "    # Imprimir el informe\n",
    "    print(informe)"
   ]
  },
  {
   "cell_type": "code",
   "execution_count": null,
   "id": "869812aa",
   "metadata": {},
   "outputs": [],
   "source": [
    "# Llamar directamente a la función\n",
    "\n",
    "initial_report(df)"
   ]
  }
 ],
 "metadata": {
  "language_info": {
   "name": "python"
  }
 },
 "nbformat": 4,
 "nbformat_minor": 5
}
