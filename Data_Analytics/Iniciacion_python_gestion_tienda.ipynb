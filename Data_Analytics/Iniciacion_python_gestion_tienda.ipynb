{
 "cells": [
  {
   "cell_type": "markdown",
   "metadata": {},
   "source": [
    "# INICIACIÓN PYHTON: GESTIÓN BÁSICA TIENDA ONLINE\n"
   ]
  },
  {
   "cell_type": "code",
   "execution_count": 1,
   "metadata": {},
   "outputs": [],
   "source": [
    "# Modelo de iniciación a python con la creación de la clase TiendaOnline, y diferentes métodos para su gestión:\n",
    "\n",
    "class TiendaOnline:\n",
    "\n",
    "    def __init__(self,inventario,ventas_totales):\n",
    "        self.inventario = [{\"nombre\": 'camisas', 'precio': 20, 'cantidad': 30}] #Iniciamos el inventario con un producto\n",
    "        self.ventas_totales =ventas_totales\n",
    "\n",
    "        \n",
    "# PRIMER MÉTODO: agregar_producto(self, nombre, precio, cantidad) Nos permite:\n",
    "\n",
    "    def agregar_productos(self, nombre, precio, cantidad):\n",
    "    \n",
    "       for i in self.inventario:\n",
    "            if i[\"nombre\"] == nombre:\n",
    "                i[\"cantidad\"] += cantidad\n",
    "                print(f\"{nombre} está en el inventario, actualizo la cantidad del stock 🖊️\")\n",
    "            else:\n",
    "                producto ={\"nombre\":nombre, \"precio\":precio,\"cantidad\": cantidad}\n",
    "                self.inventario.append(producto)\n",
    "                print(f\"No existe {nombre} en el inventario. Añadido!👌\")\n",
    "                return  \n",
    "            \n",
    "# SEGUNDO MÉTODO:ver_inventario(self) \n",
    "\n",
    "    def ver_inventario(self):\n",
    "            for producto in self.inventario:\n",
    "                print(f\"🔸Nombre: {producto['nombre']}, Precio: {producto['precio']}, Cantidad: {producto['cantidad']}\")\n",
    "\n",
    "\n",
    "    # TERCER MÉTODO: buscar_producto(self, nombre)\n",
    "\n",
    "    def buscar_producto(self,nombre):\n",
    "            for i in self.inventario:\n",
    "                if i[\"nombre\"] == nombre:\n",
    "                    print(f\"{nombre} está en el inventario ☝️\")\n",
    "                    return\n",
    "            \n",
    "            print(f\"No se encuentra el producto en el inventario, pero puedes agregarlo si lo deseas🔍\")\n",
    "\n",
    "\n",
    "    # CUARTO MÉTODO: actualizar_stock(self, nombre, cantidad) \n",
    "\n",
    "    def actualizar_stock(self, nombre,cantidad):\n",
    "            for i in self.inventario:\n",
    "                if i[\"nombre\"] == nombre:\n",
    "                    i[\"cantidad\"] =cantidad #SI QUISIERAMOS SUMARLE un stock extra al stock existente, sería: i[\"cantidad\"] +=cantidad\n",
    "                    print(f\"Se ha actualizado el stock para {nombre} y ahora tiene {cantidad} unidades 📝\")\n",
    "                    return\n",
    "            print(f\"No existe el producto a actualizar 🚫, tendrás que añadirlo al stock\")\n",
    "\n",
    "\n",
    "    # QUINTO MÉTODO: eliminar_producto(self, nombre)\n",
    "\n",
    "    def eliminar_producto(self,nombre):\n",
    "            for i in self.inventario:\n",
    "                if i[\"nombre\"] == nombre:\n",
    "                    self.inventario.remove(i)\n",
    "                    print(f\"He borrado {nombre} del inventario. Inventario actualizado 🗑️\")\n",
    "                    return\n",
    "                \n",
    "            print(\"No he encontrado el producto 🔍\")\n",
    "\n",
    "\n",
    "    # SEXTO MÉTODO: calcular_valor_inventario(self) \n",
    "\n",
    "    def calcular_valor_inventario(self):\n",
    "            valor_inventario=0\n",
    "            for i in self.inventario:\n",
    "                total= i[\"cantidad\"]*i[\"precio\"]\n",
    "                valor_inventario +=total\n",
    "            print(f\"El valor del inventario es {valor_inventario} € 💶\")"
   ]
  },
  {
   "cell_type": "code",
   "execution_count": 2,
   "metadata": {},
   "outputs": [],
   "source": [
    "tienda = TiendaOnline([],0)"
   ]
  },
  {
   "cell_type": "markdown",
   "metadata": {},
   "source": [
    "COMPROBACIÓN DE LA CLASE"
   ]
  },
  {
   "cell_type": "code",
   "execution_count": 3,
   "metadata": {},
   "outputs": [
    {
     "name": "stdout",
     "output_type": "stream",
     "text": [
      "camisas está en el inventario, actualizo la cantidad del stock 🖊️\n"
     ]
    }
   ],
   "source": [
    "\"\"\"Tenemos el producto \"camisas\" en nuestro inventario, pero han llegado 10 camisas más, pantalones, gorras y sudaderas\n",
    "asi que, actualizamos nuestro inventario, usando el primer método\"\"\"\n",
    "\n",
    "tienda.agregar_productos(\"camisas\", 20, 10) # Aquí actualizamos el número de camisas del stock"
   ]
  },
  {
   "cell_type": "code",
   "execution_count": 4,
   "metadata": {},
   "outputs": [
    {
     "name": "stdout",
     "output_type": "stream",
     "text": [
      "No existe pantalones en el inventario. Añadido!👌\n"
     ]
    }
   ],
   "source": [
    "tienda.agregar_productos(\"pantalones\", 29.99, 40) #Nos han llegado 40 pantalones (he añadido el precio como float, para next steps)"
   ]
  },
  {
   "cell_type": "code",
   "execution_count": 5,
   "metadata": {},
   "outputs": [
    {
     "name": "stdout",
     "output_type": "stream",
     "text": [
      "No existe gorras en el inventario. Añadido!👌\n"
     ]
    }
   ],
   "source": [
    "tienda.agregar_productos(\"gorras\",15,5) #Nos llega un pedido pequeño de 5 gorras, para probar que tal van en la tienda"
   ]
  },
  {
   "cell_type": "code",
   "execution_count": 6,
   "metadata": {},
   "outputs": [
    {
     "name": "stdout",
     "output_type": "stream",
     "text": [
      "No existe sudaderas en el inventario. Añadido!👌\n"
     ]
    }
   ],
   "source": [
    "tienda.agregar_productos(\"sudaderas\",25,30)"
   ]
  },
  {
   "cell_type": "code",
   "execution_count": 7,
   "metadata": {},
   "outputs": [
    {
     "name": "stdout",
     "output_type": "stream",
     "text": [
      "🔸Nombre: camisas, Precio: 20, Cantidad: 40\n",
      "🔸Nombre: pantalones, Precio: 29.99, Cantidad: 40\n",
      "🔸Nombre: gorras, Precio: 15, Cantidad: 5\n",
      "🔸Nombre: sudaderas, Precio: 25, Cantidad: 30\n",
      "Como podemos ver, nuestro inventario está actualizado (incluida la cantidad de camisas)\n"
     ]
    }
   ],
   "source": [
    "# Hemos añadido nuevos productos, vamos a aprovehar nuestro segundo método para ver el inventario\n",
    "\n",
    "tienda.ver_inventario()\n",
    "\n",
    "print(\"Como podemos ver, nuestro inventario está actualizado (incluida la cantidad de camisas)\")"
   ]
  },
  {
   "cell_type": "code",
   "execution_count": 8,
   "metadata": {},
   "outputs": [
    {
     "name": "stdout",
     "output_type": "stream",
     "text": [
      "camisas está en el inventario ☝️\n"
     ]
    }
   ],
   "source": [
    "# El tercer método nos sirve para buscar un producto con buscar_producto(self, nombre)\n",
    "\n",
    "tienda.buscar_producto(\"camisas\")"
   ]
  },
  {
   "cell_type": "code",
   "execution_count": 9,
   "metadata": {},
   "outputs": [
    {
     "name": "stdout",
     "output_type": "stream",
     "text": [
      "No se encuentra el producto en el inventario, pero puedes agregarlo si lo deseas🔍\n"
     ]
    }
   ],
   "source": [
    "#si intentamos bucar algo que no está:\n",
    "\n",
    "tienda.buscar_producto(\"falda\")"
   ]
  },
  {
   "cell_type": "code",
   "execution_count": 10,
   "metadata": {},
   "outputs": [
    {
     "name": "stdout",
     "output_type": "stream",
     "text": [
      "Se ha actualizado el stock para sudaderas y ahora tiene 60 unidades 📝\n"
     ]
    }
   ],
   "source": [
    "# Con el método 4 podemos actualizar el stock. Como se han vendido muy bien las sudaderas porque es Febrero,\n",
    "# hemos recibido más. Recordemos la cantidad de sudaderas que teníamos:30 \n",
    "\n",
    "tienda.actualizar_stock(\"sudaderas\",60)"
   ]
  },
  {
   "cell_type": "code",
   "execution_count": 11,
   "metadata": {},
   "outputs": [
    {
     "name": "stdout",
     "output_type": "stream",
     "text": [
      "No existe el producto a actualizar 🚫, tendrás que añadirlo al stock\n"
     ]
    }
   ],
   "source": [
    "# si no existe, no nos deja actualizar\n",
    "\n",
    "tienda.actualizar_stock(\"zapatos\",10)"
   ]
  },
  {
   "cell_type": "code",
   "execution_count": null,
   "metadata": {},
   "outputs": [],
   "source": [
    "# Podemos incluir otro método también muy útil para añadir unidades al stock existente:\n",
    "\n",
    "# Modificando el anterior de esta forma:\n",
    "\n",
    "\"\"\"i[\"cantidad\"] =cantidad\n",
    "#SI QUISIERAMOS SUMARLE un stock extra al stock existente, sería: i[\"cantidad\"] +=cantidad\"\"\"\n"
   ]
  },
  {
   "cell_type": "code",
   "execution_count": 12,
   "metadata": {},
   "outputs": [
    {
     "name": "stdout",
     "output_type": "stream",
     "text": [
      "He borrado gorras del inventario. Inventario actualizado 🗑️\n"
     ]
    }
   ],
   "source": [
    "# El Quinto método, nos ayuda a eliminar un producto.\n",
    "#En este caso las gorras, no han tenido éxito, así que las devolvemos al almacén.\n",
    "\n",
    "tienda.eliminar_producto(\"gorras\")"
   ]
  },
  {
   "cell_type": "code",
   "execution_count": 13,
   "metadata": {},
   "outputs": [
    {
     "name": "stdout",
     "output_type": "stream",
     "text": [
      "🔸Nombre: camisas, Precio: 20, Cantidad: 40\n",
      "🔸Nombre: pantalones, Precio: 29.99, Cantidad: 40\n",
      "🔸Nombre: sudaderas, Precio: 25, Cantidad: 60\n",
      "Ya no aparece gorras en nuestro inventario\n"
     ]
    }
   ],
   "source": [
    "# Y volvemos a comprobar el inventario:\n",
    "\n",
    "tienda.ver_inventario()\n",
    "\n",
    "print(\"Ya no aparece gorras en nuestro inventario\")"
   ]
  },
  {
   "cell_type": "code",
   "execution_count": 14,
   "metadata": {},
   "outputs": [
    {
     "name": "stdout",
     "output_type": "stream",
     "text": [
      "El valor del inventario es 3499.6 € 💶\n"
     ]
    }
   ],
   "source": [
    "# En el sexto método, vamos a calcular el valor total en € que tenemos en nuestro inventario.\n",
    "\n",
    "tienda.calcular_valor_inventario()"
   ]
  }
 ],
 "metadata": {
  "kernelspec": {
   "display_name": "Python 3",
   "language": "python",
   "name": "python3"
  },
  "language_info": {
   "codemirror_mode": {
    "name": "ipython",
    "version": 3
   },
   "file_extension": ".py",
   "mimetype": "text/x-python",
   "name": "python",
   "nbconvert_exporter": "python",
   "pygments_lexer": "ipython3",
   "version": "3.12.7"
  }
 },
 "nbformat": 4,
 "nbformat_minor": 2
}
