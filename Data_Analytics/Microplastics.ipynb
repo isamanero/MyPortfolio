{
 "cells": [
  {
   "cell_type": "code",
   "execution_count": 1,
   "id": "59525430",
   "metadata": {},
   "outputs": [
    {
     "name": "stderr",
     "output_type": "stream",
     "text": [
      "c:\\Users\\isaw9\\AppData\\Local\\Programs\\Python\\Python312\\Lib\\site-packages\\tqdm\\auto.py:21: TqdmWarning: IProgress not found. Please update jupyter and ipywidgets. See https://ipywidgets.readthedocs.io/en/stable/user_install.html\n",
      "  from .autonotebook import tqdm as notebook_tqdm\n"
     ]
    },
    {
     "name": "stdout",
     "output_type": "stream",
     "text": [
      "Path to dataset files: C:\\Users\\isaw9\\.cache\\kagglehub\\datasets\\william2020\\marine-microplastics\\versions\\1\n"
     ]
    }
   ],
   "source": [
    "import kagglehub\n",
    "\n",
    "# Download latest version\n",
    "path = kagglehub.dataset_download(\"william2020/marine-microplastics\")\n",
    "\n",
    "print(\"Path to dataset files:\", path)"
   ]
  },
  {
   "cell_type": "code",
   "execution_count": 2,
   "id": "f2f2b270",
   "metadata": {},
   "outputs": [],
   "source": [
    "import pandas as pd"
   ]
  },
  {
   "cell_type": "code",
   "execution_count": 3,
   "id": "30041278",
   "metadata": {},
   "outputs": [
    {
     "data": {
      "text/html": [
       "<div>\n",
       "<style scoped>\n",
       "    .dataframe tbody tr th:only-of-type {\n",
       "        vertical-align: middle;\n",
       "    }\n",
       "\n",
       "    .dataframe tbody tr th {\n",
       "        vertical-align: top;\n",
       "    }\n",
       "\n",
       "    .dataframe thead th {\n",
       "        text-align: right;\n",
       "    }\n",
       "</style>\n",
       "<table border=\"1\" class=\"dataframe\">\n",
       "  <thead>\n",
       "    <tr style=\"text-align: right;\">\n",
       "      <th></th>\n",
       "      <th>OBJECTID</th>\n",
       "      <th>Oceans</th>\n",
       "      <th>Regions</th>\n",
       "      <th>SubRegions</th>\n",
       "      <th>Sampling Method</th>\n",
       "      <th>Measurement</th>\n",
       "      <th>Unit</th>\n",
       "      <th>Density Range</th>\n",
       "      <th>Density Class</th>\n",
       "      <th>Short Reference</th>\n",
       "      <th>...</th>\n",
       "      <th>Organization</th>\n",
       "      <th>Keywords</th>\n",
       "      <th>Accession Number</th>\n",
       "      <th>Accession Link</th>\n",
       "      <th>Latitude</th>\n",
       "      <th>Longitude</th>\n",
       "      <th>Date</th>\n",
       "      <th>GlobalID</th>\n",
       "      <th>x</th>\n",
       "      <th>y</th>\n",
       "    </tr>\n",
       "  </thead>\n",
       "  <tbody>\n",
       "    <tr>\n",
       "      <th>0</th>\n",
       "      <td>9676</td>\n",
       "      <td>Atlantic Ocean</td>\n",
       "      <td>NaN</td>\n",
       "      <td>NaN</td>\n",
       "      <td>Grab sample</td>\n",
       "      <td>0.018</td>\n",
       "      <td>pieces/m3</td>\n",
       "      <td>0.005-1</td>\n",
       "      <td>Medium</td>\n",
       "      <td>Barrows et al.2018</td>\n",
       "      <td>...</td>\n",
       "      <td>Adventure Scientist</td>\n",
       "      <td>Adventure Scientist/Citizen Science</td>\n",
       "      <td>211009</td>\n",
       "      <td>https://www.ncei.noaa.gov/access/metadata/land...</td>\n",
       "      <td>-31.696000</td>\n",
       "      <td>-48.560000</td>\n",
       "      <td>8/11/2015 12:00:00 AM</td>\n",
       "      <td>a77121b2-e113-444e-82d9-7af11d62fdd2</td>\n",
       "      <td>-48.560000</td>\n",
       "      <td>-31.696000</td>\n",
       "    </tr>\n",
       "    <tr>\n",
       "      <th>1</th>\n",
       "      <td>6427</td>\n",
       "      <td>Pacific Ocean</td>\n",
       "      <td>NaN</td>\n",
       "      <td>NaN</td>\n",
       "      <td>Neuston net</td>\n",
       "      <td>0.000</td>\n",
       "      <td>pieces/m3</td>\n",
       "      <td>0-0.0005</td>\n",
       "      <td>Very Low</td>\n",
       "      <td>Law et al.2014</td>\n",
       "      <td>...</td>\n",
       "      <td>Sea Education Association</td>\n",
       "      <td>SEA</td>\n",
       "      <td>211008</td>\n",
       "      <td>https://www.ncei.noaa.gov/access/metadata/land...</td>\n",
       "      <td>6.350000</td>\n",
       "      <td>-121.850000</td>\n",
       "      <td>12/18/2002 12:00:00 AM</td>\n",
       "      <td>be27c450-02ca-4261-8d89-cae21108e6cc</td>\n",
       "      <td>-121.850000</td>\n",
       "      <td>6.350000</td>\n",
       "    </tr>\n",
       "    <tr>\n",
       "      <th>2</th>\n",
       "      <td>10672</td>\n",
       "      <td>Pacific Ocean</td>\n",
       "      <td>NaN</td>\n",
       "      <td>NaN</td>\n",
       "      <td>Manta net</td>\n",
       "      <td>0.013</td>\n",
       "      <td>pieces/m3</td>\n",
       "      <td>0.005-1</td>\n",
       "      <td>Medium</td>\n",
       "      <td>Goldstein et al.2013</td>\n",
       "      <td>...</td>\n",
       "      <td>Scripps Institution of Oceanography-University...</td>\n",
       "      <td>Great Pacific Garbage Patch/SEAPLEX</td>\n",
       "      <td>253448</td>\n",
       "      <td>https://www.ncei.noaa.gov/access/metadata/land...</td>\n",
       "      <td>0.500000</td>\n",
       "      <td>-95.350000</td>\n",
       "      <td>10/17/2006 12:00:00 AM</td>\n",
       "      <td>23effcdd-35b7-4e1e-adb4-390693a287d3</td>\n",
       "      <td>-95.350000</td>\n",
       "      <td>0.500000</td>\n",
       "    </tr>\n",
       "    <tr>\n",
       "      <th>3</th>\n",
       "      <td>13921</td>\n",
       "      <td>Atlantic Ocean</td>\n",
       "      <td>NaN</td>\n",
       "      <td>NaN</td>\n",
       "      <td>Aluminum bucket</td>\n",
       "      <td>1368.000</td>\n",
       "      <td>pieces/m3</td>\n",
       "      <td>&gt;=10</td>\n",
       "      <td>Very High</td>\n",
       "      <td>Queiroz et al.2022</td>\n",
       "      <td>...</td>\n",
       "      <td>Federal University of Pará, Brazil</td>\n",
       "      <td>Amazon Continental Shelf</td>\n",
       "      <td>276482</td>\n",
       "      <td>https://www.ncei.noaa.gov/access/metadata/land...</td>\n",
       "      <td>0.631825</td>\n",
       "      <td>-45.398158</td>\n",
       "      <td>10/17/2018 12:00:00 AM</td>\n",
       "      <td>16d77822-0533-4116-97b9-0bdb592f3d6e</td>\n",
       "      <td>-45.398158</td>\n",
       "      <td>0.631825</td>\n",
       "    </tr>\n",
       "    <tr>\n",
       "      <th>4</th>\n",
       "      <td>9344</td>\n",
       "      <td>Pacific Ocean</td>\n",
       "      <td>NaN</td>\n",
       "      <td>NaN</td>\n",
       "      <td>Grab sample</td>\n",
       "      <td>0.001</td>\n",
       "      <td>pieces/m3</td>\n",
       "      <td>0.0005-0.005</td>\n",
       "      <td>Low</td>\n",
       "      <td>Barrows et al.2018</td>\n",
       "      <td>...</td>\n",
       "      <td>Adventure Scientist</td>\n",
       "      <td>Adventure Scientist/Citizen Science</td>\n",
       "      <td>211009</td>\n",
       "      <td>https://www.ncei.noaa.gov/access/metadata/land...</td>\n",
       "      <td>16.623000</td>\n",
       "      <td>-99.697800</td>\n",
       "      <td>1/3/2015 12:00:00 AM</td>\n",
       "      <td>b9e435e3-9e86-4143-8b51-877e5dcdc7a6</td>\n",
       "      <td>-99.697800</td>\n",
       "      <td>16.623000</td>\n",
       "    </tr>\n",
       "  </tbody>\n",
       "</table>\n",
       "<p>5 rows × 22 columns</p>\n",
       "</div>"
      ],
      "text/plain": [
       "   OBJECTID          Oceans Regions SubRegions  Sampling Method  Measurement  \\\n",
       "0      9676  Atlantic Ocean     NaN        NaN      Grab sample        0.018   \n",
       "1      6427   Pacific Ocean     NaN        NaN      Neuston net        0.000   \n",
       "2     10672   Pacific Ocean     NaN        NaN        Manta net        0.013   \n",
       "3     13921  Atlantic Ocean     NaN        NaN  Aluminum bucket     1368.000   \n",
       "4      9344   Pacific Ocean     NaN        NaN      Grab sample        0.001   \n",
       "\n",
       "        Unit Density Range Density Class       Short Reference  ...  \\\n",
       "0  pieces/m3       0.005-1        Medium    Barrows et al.2018  ...   \n",
       "1  pieces/m3      0-0.0005      Very Low        Law et al.2014  ...   \n",
       "2  pieces/m3       0.005-1        Medium  Goldstein et al.2013  ...   \n",
       "3  pieces/m3          >=10     Very High    Queiroz et al.2022  ...   \n",
       "4  pieces/m3  0.0005-0.005           Low    Barrows et al.2018  ...   \n",
       "\n",
       "                                        Organization  \\\n",
       "0                                Adventure Scientist   \n",
       "1                          Sea Education Association   \n",
       "2  Scripps Institution of Oceanography-University...   \n",
       "3                 Federal University of Pará, Brazil   \n",
       "4                                Adventure Scientist   \n",
       "\n",
       "                              Keywords Accession Number  \\\n",
       "0  Adventure Scientist/Citizen Science           211009   \n",
       "1                                  SEA           211008   \n",
       "2  Great Pacific Garbage Patch/SEAPLEX           253448   \n",
       "3             Amazon Continental Shelf           276482   \n",
       "4  Adventure Scientist/Citizen Science           211009   \n",
       "\n",
       "                                      Accession Link   Latitude   Longitude  \\\n",
       "0  https://www.ncei.noaa.gov/access/metadata/land... -31.696000  -48.560000   \n",
       "1  https://www.ncei.noaa.gov/access/metadata/land...   6.350000 -121.850000   \n",
       "2  https://www.ncei.noaa.gov/access/metadata/land...   0.500000  -95.350000   \n",
       "3  https://www.ncei.noaa.gov/access/metadata/land...   0.631825  -45.398158   \n",
       "4  https://www.ncei.noaa.gov/access/metadata/land...  16.623000  -99.697800   \n",
       "\n",
       "                     Date                              GlobalID           x  \\\n",
       "0   8/11/2015 12:00:00 AM  a77121b2-e113-444e-82d9-7af11d62fdd2  -48.560000   \n",
       "1  12/18/2002 12:00:00 AM  be27c450-02ca-4261-8d89-cae21108e6cc -121.850000   \n",
       "2  10/17/2006 12:00:00 AM  23effcdd-35b7-4e1e-adb4-390693a287d3  -95.350000   \n",
       "3  10/17/2018 12:00:00 AM  16d77822-0533-4116-97b9-0bdb592f3d6e  -45.398158   \n",
       "4    1/3/2015 12:00:00 AM  b9e435e3-9e86-4143-8b51-877e5dcdc7a6  -99.697800   \n",
       "\n",
       "           y  \n",
       "0 -31.696000  \n",
       "1   6.350000  \n",
       "2   0.500000  \n",
       "3   0.631825  \n",
       "4  16.623000  \n",
       "\n",
       "[5 rows x 22 columns]"
      ]
     },
     "execution_count": 3,
     "metadata": {},
     "output_type": "execute_result"
    }
   ],
   "source": [
    "df = pd.read_csv(\"../Archivos/Marine_Microplastics.csv\")\n",
    "df.head()"
   ]
  },
  {
   "cell_type": "code",
   "execution_count": 4,
   "id": "4ff4e8b4",
   "metadata": {},
   "outputs": [
    {
     "data": {
      "text/plain": [
       "OBJECTID             0.000000\n",
       "Oceans               1.326805\n",
       "Regions             56.499388\n",
       "SubRegions          93.600979\n",
       "Sampling Method      0.000000\n",
       "Measurement         28.455324\n",
       "Unit                 0.000000\n",
       "Density Range        0.000000\n",
       "Density Class        0.000000\n",
       "Short Reference      0.000000\n",
       "Long Reference       0.000000\n",
       "DOI                  0.000000\n",
       "Organization         0.000000\n",
       "Keywords             0.088127\n",
       "Accession Number     0.000000\n",
       "Accession Link       0.000000\n",
       "Latitude             0.000000\n",
       "Longitude            0.000000\n",
       "Date                 0.000000\n",
       "GlobalID             0.000000\n",
       "x                    0.000000\n",
       "y                    0.000000\n",
       "dtype: float64"
      ]
     },
     "execution_count": 4,
     "metadata": {},
     "output_type": "execute_result"
    }
   ],
   "source": [
    "df.isna().sum()/df.shape[0]*100"
   ]
  },
  {
   "cell_type": "code",
   "execution_count": 5,
   "id": "89caa6d4",
   "metadata": {},
   "outputs": [
    {
     "data": {
      "text/plain": [
       "(20425, 22)"
      ]
     },
     "execution_count": 5,
     "metadata": {},
     "output_type": "execute_result"
    }
   ],
   "source": [
    "df.shape"
   ]
  },
  {
   "cell_type": "code",
   "execution_count": 7,
   "id": "87b4c76b",
   "metadata": {},
   "outputs": [
    {
     "data": {
      "text/plain": [
       "count     14613.000000\n",
       "mean        161.983976\n",
       "std        2198.862484\n",
       "min           0.000000\n",
       "25%           0.000000\n",
       "50%           0.008640\n",
       "75%           0.128412\n",
       "max      110480.000000\n",
       "Name: Measurement, dtype: float64"
      ]
     },
     "execution_count": 7,
     "metadata": {},
     "output_type": "execute_result"
    }
   ],
   "source": [
    "df['Measurement'].describe()"
   ]
  }
 ],
 "metadata": {
  "kernelspec": {
   "display_name": "Python 3",
   "language": "python",
   "name": "python3"
  },
  "language_info": {
   "codemirror_mode": {
    "name": "ipython",
    "version": 3
   },
   "file_extension": ".py",
   "mimetype": "text/x-python",
   "name": "python",
   "nbconvert_exporter": "python",
   "pygments_lexer": "ipython3",
   "version": "3.12.7"
  }
 },
 "nbformat": 4,
 "nbformat_minor": 5
}
