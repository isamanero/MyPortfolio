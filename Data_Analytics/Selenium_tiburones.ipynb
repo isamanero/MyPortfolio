{
 "cells": [
  {
   "cell_type": "code",
   "execution_count": 1,
   "metadata": {},
   "outputs": [],
   "source": [
    "# Importar librerías para tratamiento de datos\n",
    "# -----------------------------------------------------------------------\n",
    "import pandas as pd  # Pandas es una poderosa librería para manipulación y análisis de datos en Python.\n",
    "\n",
    "# Importar librerías para web scraping y manipulación de datos\n",
    "# -----------------------------------------------------------------------\n",
    "from bs4 import BeautifulSoup\n",
    "import requests\n",
    "\n",
    "# Importar librerías para automatización de navegadores web con Selenium\n",
    "# -----------------------------------------------------------------------\n",
    "from selenium import webdriver  # Selenium es una herramienta para automatizar la interacción con navegadores web.\n",
    "from webdriver_manager.chrome import ChromeDriverManager  # ChromeDriverManager gestiona la instalación del controlador de Chrome.\n",
    "from selenium.webdriver.common.keys import Keys  # Keys es útil para simular eventos de teclado en Selenium.\n",
    "from selenium.webdriver.support.ui import Select  # Select se utiliza para interactuar con elementos <select> en páginas web.\n",
    "\n",
    "# Importar librerías para pausar la ejecución\n",
    "# -----------------------------------------------------------------------\n",
    "from time import sleep  # Sleep se utiliza para pausar la ejecución del programa por un número de segundos.\n",
    "\n",
    "# Configuraciones\n",
    "# -----------------------------------------------------------------------\n",
    "pd.set_option('display.max_columns', None)  # Establece una opción de Pandas para mostrar todas las columnas de un DataFrame."
   ]
  },
  {
   "cell_type": "code",
   "execution_count": null,
   "metadata": {},
   "outputs": [
    {
     "name": "stdout",
     "output_type": "stream",
     "text": [
      "Accede a la web\n",
      "entra en la página de un tiburón\n",
      "Alopias pelagicus\n"
     ]
    },
    {
     "ename": "ElementNotInteractableException",
     "evalue": "Message: element not interactable\n  (Session info: chrome=134.0.6998.118)\nStacktrace:\n\tGetHandleVerifier [0x00007FF686BE4C25+3179557]\n\t(No symbol) [0x00007FF6868488A0]\n\t(No symbol) [0x00007FF6866D8FFC]\n\t(No symbol) [0x00007FF686730EA4]\n\t(No symbol) [0x00007FF686722A24]\n\t(No symbol) [0x00007FF686757C2A]\n\t(No symbol) [0x00007FF6867222D6]\n\t(No symbol) [0x00007FF686757E40]\n\t(No symbol) [0x00007FF6867802F3]\n\t(No symbol) [0x00007FF686757A03]\n\t(No symbol) [0x00007FF6867206D0]\n\t(No symbol) [0x00007FF686721983]\n\tGetHandleVerifier [0x00007FF686C467CD+3579853]\n\tGetHandleVerifier [0x00007FF686C5D1D2+3672530]\n\tGetHandleVerifier [0x00007FF686C52153+3627347]\n\tGetHandleVerifier [0x00007FF6869B092A+868650]\n\t(No symbol) [0x00007FF686852FFF]\n\t(No symbol) [0x00007FF68684F4A4]\n\t(No symbol) [0x00007FF68684F646]\n\t(No symbol) [0x00007FF68683EAA9]\n\tBaseThreadInitThunk [0x00007FF802FFE8D7+23]\n\tRtlUserThreadStart [0x00007FF8046FBF6C+44]\n",
     "output_type": "error",
     "traceback": [
      "\u001b[1;31m---------------------------------------------------------------------------\u001b[0m",
      "\u001b[1;31mElementNotInteractableException\u001b[0m           Traceback (most recent call last)",
      "Cell \u001b[1;32mIn[3], line 13\u001b[0m\n\u001b[0;32m      9\u001b[0m lista_tiburones \u001b[38;5;241m=\u001b[39m []\n\u001b[0;32m     11\u001b[0m \u001b[38;5;28;01mfor\u001b[39;00m i \u001b[38;5;129;01min\u001b[39;00m \u001b[38;5;28mrange\u001b[39m(\u001b[38;5;241m1\u001b[39m,\u001b[38;5;241m10\u001b[39m):\n\u001b[1;32m---> 13\u001b[0m     \u001b[43mdriver\u001b[49m\u001b[38;5;241;43m.\u001b[39;49m\u001b[43mfind_element\u001b[49m\u001b[43m(\u001b[49m\u001b[38;5;124;43m\"\u001b[39;49m\u001b[38;5;124;43mcss selector\u001b[39;49m\u001b[38;5;124;43m\"\u001b[39;49m\u001b[43m,\u001b[49m\u001b[43m \u001b[49m\u001b[38;5;124;43mf\u001b[39;49m\u001b[38;5;124;43m\"\u001b[39;49m\u001b[38;5;124;43m#listItems > li:nth-child(\u001b[39;49m\u001b[38;5;132;43;01m{\u001b[39;49;00m\u001b[43mi\u001b[49m\u001b[38;5;132;43;01m}\u001b[39;49;00m\u001b[38;5;124;43m) > div > a\u001b[39;49m\u001b[38;5;124;43m\"\u001b[39;49m\u001b[43m)\u001b[49m\u001b[38;5;241;43m.\u001b[39;49m\u001b[43mclick\u001b[49m\u001b[43m(\u001b[49m\u001b[43m)\u001b[49m\n\u001b[0;32m     14\u001b[0m     \u001b[38;5;28mprint\u001b[39m(\u001b[38;5;124m\"\u001b[39m\u001b[38;5;124mentra en la página de un tiburón\u001b[39m\u001b[38;5;124m\"\u001b[39m)\n\u001b[0;32m     16\u001b[0m     sleep(\u001b[38;5;241m3\u001b[39m)\n",
      "File \u001b[1;32mc:\\Users\\isaw9\\AppData\\Local\\Programs\\Python\\Python312\\Lib\\site-packages\\selenium\\webdriver\\remote\\webelement.py:119\u001b[0m, in \u001b[0;36mWebElement.click\u001b[1;34m(self)\u001b[0m\n\u001b[0;32m    111\u001b[0m \u001b[38;5;28;01mdef\u001b[39;00m \u001b[38;5;21mclick\u001b[39m(\u001b[38;5;28mself\u001b[39m) \u001b[38;5;241m-\u001b[39m\u001b[38;5;241m>\u001b[39m \u001b[38;5;28;01mNone\u001b[39;00m:\n\u001b[0;32m    112\u001b[0m \u001b[38;5;250m    \u001b[39m\u001b[38;5;124;03m\"\"\"Clicks the element.\u001b[39;00m\n\u001b[0;32m    113\u001b[0m \n\u001b[0;32m    114\u001b[0m \u001b[38;5;124;03m    Example:\u001b[39;00m\n\u001b[1;32m   (...)\u001b[0m\n\u001b[0;32m    117\u001b[0m \u001b[38;5;124;03m    >>> element.click()\u001b[39;00m\n\u001b[0;32m    118\u001b[0m \u001b[38;5;124;03m    \"\"\"\u001b[39;00m\n\u001b[1;32m--> 119\u001b[0m     \u001b[38;5;28;43mself\u001b[39;49m\u001b[38;5;241;43m.\u001b[39;49m\u001b[43m_execute\u001b[49m\u001b[43m(\u001b[49m\u001b[43mCommand\u001b[49m\u001b[38;5;241;43m.\u001b[39;49m\u001b[43mCLICK_ELEMENT\u001b[49m\u001b[43m)\u001b[49m\n",
      "File \u001b[1;32mc:\\Users\\isaw9\\AppData\\Local\\Programs\\Python\\Python312\\Lib\\site-packages\\selenium\\webdriver\\remote\\webelement.py:572\u001b[0m, in \u001b[0;36mWebElement._execute\u001b[1;34m(self, command, params)\u001b[0m\n\u001b[0;32m    570\u001b[0m     params \u001b[38;5;241m=\u001b[39m {}\n\u001b[0;32m    571\u001b[0m params[\u001b[38;5;124m\"\u001b[39m\u001b[38;5;124mid\u001b[39m\u001b[38;5;124m\"\u001b[39m] \u001b[38;5;241m=\u001b[39m \u001b[38;5;28mself\u001b[39m\u001b[38;5;241m.\u001b[39m_id\n\u001b[1;32m--> 572\u001b[0m \u001b[38;5;28;01mreturn\u001b[39;00m \u001b[38;5;28;43mself\u001b[39;49m\u001b[38;5;241;43m.\u001b[39;49m\u001b[43m_parent\u001b[49m\u001b[38;5;241;43m.\u001b[39;49m\u001b[43mexecute\u001b[49m\u001b[43m(\u001b[49m\u001b[43mcommand\u001b[49m\u001b[43m,\u001b[49m\u001b[43m \u001b[49m\u001b[43mparams\u001b[49m\u001b[43m)\u001b[49m\n",
      "File \u001b[1;32mc:\\Users\\isaw9\\AppData\\Local\\Programs\\Python\\Python312\\Lib\\site-packages\\selenium\\webdriver\\remote\\webdriver.py:429\u001b[0m, in \u001b[0;36mWebDriver.execute\u001b[1;34m(self, driver_command, params)\u001b[0m\n\u001b[0;32m    427\u001b[0m response \u001b[38;5;241m=\u001b[39m \u001b[38;5;28mself\u001b[39m\u001b[38;5;241m.\u001b[39mcommand_executor\u001b[38;5;241m.\u001b[39mexecute(driver_command, params)\n\u001b[0;32m    428\u001b[0m \u001b[38;5;28;01mif\u001b[39;00m response:\n\u001b[1;32m--> 429\u001b[0m     \u001b[38;5;28;43mself\u001b[39;49m\u001b[38;5;241;43m.\u001b[39;49m\u001b[43merror_handler\u001b[49m\u001b[38;5;241;43m.\u001b[39;49m\u001b[43mcheck_response\u001b[49m\u001b[43m(\u001b[49m\u001b[43mresponse\u001b[49m\u001b[43m)\u001b[49m\n\u001b[0;32m    430\u001b[0m     response[\u001b[38;5;124m\"\u001b[39m\u001b[38;5;124mvalue\u001b[39m\u001b[38;5;124m\"\u001b[39m] \u001b[38;5;241m=\u001b[39m \u001b[38;5;28mself\u001b[39m\u001b[38;5;241m.\u001b[39m_unwrap_value(response\u001b[38;5;241m.\u001b[39mget(\u001b[38;5;124m\"\u001b[39m\u001b[38;5;124mvalue\u001b[39m\u001b[38;5;124m\"\u001b[39m, \u001b[38;5;28;01mNone\u001b[39;00m))\n\u001b[0;32m    431\u001b[0m     \u001b[38;5;28;01mreturn\u001b[39;00m response\n",
      "File \u001b[1;32mc:\\Users\\isaw9\\AppData\\Local\\Programs\\Python\\Python312\\Lib\\site-packages\\selenium\\webdriver\\remote\\errorhandler.py:232\u001b[0m, in \u001b[0;36mErrorHandler.check_response\u001b[1;34m(self, response)\u001b[0m\n\u001b[0;32m    230\u001b[0m         alert_text \u001b[38;5;241m=\u001b[39m value[\u001b[38;5;124m\"\u001b[39m\u001b[38;5;124malert\u001b[39m\u001b[38;5;124m\"\u001b[39m]\u001b[38;5;241m.\u001b[39mget(\u001b[38;5;124m\"\u001b[39m\u001b[38;5;124mtext\u001b[39m\u001b[38;5;124m\"\u001b[39m)\n\u001b[0;32m    231\u001b[0m     \u001b[38;5;28;01mraise\u001b[39;00m exception_class(message, screen, stacktrace, alert_text)  \u001b[38;5;66;03m# type: ignore[call-arg]  # mypy is not smart enough here\u001b[39;00m\n\u001b[1;32m--> 232\u001b[0m \u001b[38;5;28;01mraise\u001b[39;00m exception_class(message, screen, stacktrace)\n",
      "\u001b[1;31mElementNotInteractableException\u001b[0m: Message: element not interactable\n  (Session info: chrome=134.0.6998.118)\nStacktrace:\n\tGetHandleVerifier [0x00007FF686BE4C25+3179557]\n\t(No symbol) [0x00007FF6868488A0]\n\t(No symbol) [0x00007FF6866D8FFC]\n\t(No symbol) [0x00007FF686730EA4]\n\t(No symbol) [0x00007FF686722A24]\n\t(No symbol) [0x00007FF686757C2A]\n\t(No symbol) [0x00007FF6867222D6]\n\t(No symbol) [0x00007FF686757E40]\n\t(No symbol) [0x00007FF6867802F3]\n\t(No symbol) [0x00007FF686757A03]\n\t(No symbol) [0x00007FF6867206D0]\n\t(No symbol) [0x00007FF686721983]\n\tGetHandleVerifier [0x00007FF686C467CD+3579853]\n\tGetHandleVerifier [0x00007FF686C5D1D2+3672530]\n\tGetHandleVerifier [0x00007FF686C52153+3627347]\n\tGetHandleVerifier [0x00007FF6869B092A+868650]\n\t(No symbol) [0x00007FF686852FFF]\n\t(No symbol) [0x00007FF68684F4A4]\n\t(No symbol) [0x00007FF68684F646]\n\t(No symbol) [0x00007FF68683EAA9]\n\tBaseThreadInitThunk [0x00007FF802FFE8D7+23]\n\tRtlUserThreadStart [0x00007FF8046FBF6C+44]\n"
     ]
    }
   ],
   "source": []
  },
  {
   "cell_type": "code",
   "execution_count": 4,
   "metadata": {},
   "outputs": [
    {
     "name": "stdout",
     "output_type": "stream",
     "text": [
      "Accede a la web\n",
      "Accediendo al tiburón 1\n",
      "Nombre científico: Alopias pelagicus\n",
      "Familia: alopiidae\n",
      "Accediendo al tiburón 2\n",
      "Nombre científico: Atelomycterus marmoratus\n",
      "Familia: Scyliorhinidae\n",
      "Accediendo al tiburón 3\n",
      "Nombre científico: Carcharhinus amblyrhynchos\n",
      "Familia: Carcharhinidae\n",
      "Accediendo al tiburón 4\n",
      "Nombre científico: Carcharhinus falciformis\n",
      "Familia: Carcharhinidae\n",
      "Accediendo al tiburón 5\n",
      "Nombre científico: Carcharhinus leucas\n",
      "Familia: Carcharhinidae\n",
      "Accediendo al tiburón 6\n",
      "Nombre científico: Carcharhinus melanopterus\n",
      "Familia: Carcharhinidae\n",
      "Accediendo al tiburón 7\n",
      "Nombre científico: carcharhinus plumbeus\n",
      "Familia: Carcharhinidae\n",
      "Accediendo al tiburón 8\n",
      "Nombre científico: Carcharias taurus\n",
      "Familia: Carcharhinidae\n",
      "Accediendo al tiburón 9\n",
      "Nombre científico: Carcharodon carcharias\n",
      "Familia: Lamnidae\n",
      "Lista de tiburones: [{'Nombre_cientifico': 'Alopias pelagicus', 'Familia': 'alopiidae'}, {'Nombre_cientifico': 'Atelomycterus marmoratus', 'Familia': 'Scyliorhinidae'}, {'Nombre_cientifico': 'Carcharhinus amblyrhynchos', 'Familia': 'Carcharhinidae'}, {'Nombre_cientifico': 'Carcharhinus falciformis', 'Familia': 'Carcharhinidae'}, {'Nombre_cientifico': 'Carcharhinus leucas', 'Familia': 'Carcharhinidae'}, {'Nombre_cientifico': 'Carcharhinus melanopterus', 'Familia': 'Carcharhinidae'}, {'Nombre_cientifico': 'carcharhinus plumbeus', 'Familia': 'Carcharhinidae'}, {'Nombre_cientifico': 'Carcharias taurus', 'Familia': 'Carcharhinidae'}, {'Nombre_cientifico': 'Carcharodon carcharias', 'Familia': 'Lamnidae'}]\n"
     ]
    }
   ],
   "source": [
    "from selenium import webdriver\n",
    "from selenium.webdriver.common.by import By\n",
    "from time import sleep\n",
    "\n",
    "# Iniciar el navegador\n",
    "driver = webdriver.Chrome()\n",
    "driver.maximize_window()\n",
    "\n",
    "# Acceder a la web\n",
    "driver.get(\"https://www.fishipedia.es/pez/type/requin\")\n",
    "print(\"Accede a la web\")\n",
    "\n",
    "lista_tiburones = []\n",
    "\n",
    "for i in range(1, 10):\n",
    "    # Hacer clic en cada tiburón\n",
    "    driver.find_element(\"css selector\", f\"#listItems > li:nth-child({i}) > div > a\").click()\n",
    "    print(f\"Accediendo al tiburón {i}\")\n",
    "\n",
    "\n",
    "    sleep(3)  # Espera para asegurar que la página haya cargado correctamente\n",
    "\n",
    "    try:\n",
    "        # Obtener el nombre científico\n",
    "        nombre_cientifico = driver.find_element(\"css selector\", \"#Js--BannerJs table tbody tr.g-6-col td em\").text\n",
    "        print(f\"Nombre científico: {nombre_cientifico}\")\n",
    "        familia=driver.find_element(\"css selector\", \"#Js--BannerJs > table > tbody > tr:nth-child(5) > td > a\").text\n",
    "        print(f\"Familia: {familia}\")\n",
    "        # Guardar en la lista\n",
    "        lista_tiburones.append({\"Nombre_cientifico\": nombre_cientifico, \"Familia\": familia})\n",
    "        \n",
    "    except Exception as e:\n",
    "        print(f\"Error al obtener el dato {i}: {e}\")\n",
    "\n",
    "    sleep(2)  # Pequeña pausa antes de regresar\n",
    "    driver.back()\n",
    "    sleep(3)  # Espera a que la lista de tiburones se vuelva a cargar\n",
    "\n",
    "# Cerrar el navegador\n",
    "driver.quit()\n",
    "\n",
    "# Imprimir resultados\n",
    "print(\"Lista de tiburones:\", lista_tiburones)\n"
   ]
  },
  {
   "cell_type": "code",
   "execution_count": 5,
   "metadata": {},
   "outputs": [
    {
     "data": {
      "text/plain": [
       "[{'Nombre_cientifico': 'Alopias pelagicus', 'Familia': 'alopiidae'},\n",
       " {'Nombre_cientifico': 'Atelomycterus marmoratus',\n",
       "  'Familia': 'Scyliorhinidae'},\n",
       " {'Nombre_cientifico': 'Carcharhinus amblyrhynchos',\n",
       "  'Familia': 'Carcharhinidae'},\n",
       " {'Nombre_cientifico': 'Carcharhinus falciformis',\n",
       "  'Familia': 'Carcharhinidae'},\n",
       " {'Nombre_cientifico': 'Carcharhinus leucas', 'Familia': 'Carcharhinidae'},\n",
       " {'Nombre_cientifico': 'Carcharhinus melanopterus',\n",
       "  'Familia': 'Carcharhinidae'},\n",
       " {'Nombre_cientifico': 'carcharhinus plumbeus', 'Familia': 'Carcharhinidae'},\n",
       " {'Nombre_cientifico': 'Carcharias taurus', 'Familia': 'Carcharhinidae'},\n",
       " {'Nombre_cientifico': 'Carcharodon carcharias', 'Familia': 'Lamnidae'}]"
      ]
     },
     "execution_count": 5,
     "metadata": {},
     "output_type": "execute_result"
    }
   ],
   "source": [
    "lista_tiburones"
   ]
  },
  {
   "cell_type": "code",
   "execution_count": null,
   "metadata": {},
   "outputs": [],
   "source": []
  },
  {
   "cell_type": "code",
   "execution_count": 6,
   "metadata": {},
   "outputs": [
    {
     "data": {
      "text/html": [
       "<div>\n",
       "<style scoped>\n",
       "    .dataframe tbody tr th:only-of-type {\n",
       "        vertical-align: middle;\n",
       "    }\n",
       "\n",
       "    .dataframe tbody tr th {\n",
       "        vertical-align: top;\n",
       "    }\n",
       "\n",
       "    .dataframe thead th {\n",
       "        text-align: right;\n",
       "    }\n",
       "</style>\n",
       "<table border=\"1\" class=\"dataframe\">\n",
       "  <thead>\n",
       "    <tr style=\"text-align: right;\">\n",
       "      <th></th>\n",
       "      <th>Nombre_cientifico</th>\n",
       "      <th>Familia</th>\n",
       "    </tr>\n",
       "  </thead>\n",
       "  <tbody>\n",
       "    <tr>\n",
       "      <th>0</th>\n",
       "      <td>Alopias pelagicus</td>\n",
       "      <td>alopiidae</td>\n",
       "    </tr>\n",
       "    <tr>\n",
       "      <th>1</th>\n",
       "      <td>Atelomycterus marmoratus</td>\n",
       "      <td>Scyliorhinidae</td>\n",
       "    </tr>\n",
       "    <tr>\n",
       "      <th>2</th>\n",
       "      <td>Carcharhinus amblyrhynchos</td>\n",
       "      <td>Carcharhinidae</td>\n",
       "    </tr>\n",
       "    <tr>\n",
       "      <th>3</th>\n",
       "      <td>Carcharhinus falciformis</td>\n",
       "      <td>Carcharhinidae</td>\n",
       "    </tr>\n",
       "    <tr>\n",
       "      <th>4</th>\n",
       "      <td>Carcharhinus leucas</td>\n",
       "      <td>Carcharhinidae</td>\n",
       "    </tr>\n",
       "    <tr>\n",
       "      <th>5</th>\n",
       "      <td>Carcharhinus melanopterus</td>\n",
       "      <td>Carcharhinidae</td>\n",
       "    </tr>\n",
       "    <tr>\n",
       "      <th>6</th>\n",
       "      <td>carcharhinus plumbeus</td>\n",
       "      <td>Carcharhinidae</td>\n",
       "    </tr>\n",
       "    <tr>\n",
       "      <th>7</th>\n",
       "      <td>Carcharias taurus</td>\n",
       "      <td>Carcharhinidae</td>\n",
       "    </tr>\n",
       "    <tr>\n",
       "      <th>8</th>\n",
       "      <td>Carcharodon carcharias</td>\n",
       "      <td>Lamnidae</td>\n",
       "    </tr>\n",
       "  </tbody>\n",
       "</table>\n",
       "</div>"
      ],
      "text/plain": [
       "            Nombre_cientifico         Familia\n",
       "0           Alopias pelagicus       alopiidae\n",
       "1    Atelomycterus marmoratus  Scyliorhinidae\n",
       "2  Carcharhinus amblyrhynchos  Carcharhinidae\n",
       "3    Carcharhinus falciformis  Carcharhinidae\n",
       "4         Carcharhinus leucas  Carcharhinidae\n",
       "5   Carcharhinus melanopterus  Carcharhinidae\n",
       "6       carcharhinus plumbeus  Carcharhinidae\n",
       "7           Carcharias taurus  Carcharhinidae\n",
       "8      Carcharodon carcharias        Lamnidae"
      ]
     },
     "execution_count": 6,
     "metadata": {},
     "output_type": "execute_result"
    }
   ],
   "source": [
    "df = pd.DataFrame(lista_tiburones)\n",
    "df"
   ]
  }
 ],
 "metadata": {
  "kernelspec": {
   "display_name": "Python 3",
   "language": "python",
   "name": "python3"
  },
  "language_info": {
   "codemirror_mode": {
    "name": "ipython",
    "version": 3
   },
   "file_extension": ".py",
   "mimetype": "text/x-python",
   "name": "python",
   "nbconvert_exporter": "python",
   "pygments_lexer": "ipython3",
   "version": "3.12.7"
  }
 },
 "nbformat": 4,
 "nbformat_minor": 2
}
