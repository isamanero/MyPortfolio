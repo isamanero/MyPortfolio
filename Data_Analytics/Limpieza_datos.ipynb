{
 "cells": [
  {
   "cell_type": "markdown",
   "metadata": {},
   "source": [
    "- La idea de este proyecto es subir un csv para limpiar."
   ]
  },
  {
   "cell_type": "code",
   "execution_count": 1,
   "metadata": {},
   "outputs": [],
   "source": [
    "# importamos las librerías que necesitamos\n",
    "\n",
    "# Tratamiento de datos\n",
    "# -----------------------------------------------------------------------\n",
    "import pandas as pd\n",
    "import numpy as np\n",
    "\n",
    "# Imputación de nulos usando métodos avanzados estadísticos\n",
    "# -----------------------------------------------------------------------\n",
    "from sklearn.impute import SimpleImputer\n",
    "from sklearn.experimental import enable_iterative_imputer\n",
    "from sklearn.impute import IterativeImputer\n",
    "from sklearn.impute import KNNImputer\n",
    "\n",
    "# Librerías de visualización\n",
    "# -----------------------------------------------------------------------\n",
    "import seaborn as sns\n",
    "import matplotlib.pyplot as plt\n",
    "# Configuración\n",
    "# -----------------------------------------------------------------------\n",
    "pd.set_option('display.max_columns', None) # para poder visualizar todas las columnas de los DataFrames"
   ]
  },
  {
   "cell_type": "code",
   "execution_count": 32,
   "metadata": {},
   "outputs": [
    {
     "data": {
      "text/html": [
       "<div>\n",
       "<style scoped>\n",
       "    .dataframe tbody tr th:only-of-type {\n",
       "        vertical-align: middle;\n",
       "    }\n",
       "\n",
       "    .dataframe tbody tr th {\n",
       "        vertical-align: top;\n",
       "    }\n",
       "\n",
       "    .dataframe thead th {\n",
       "        text-align: right;\n",
       "    }\n",
       "</style>\n",
       "<table border=\"1\" class=\"dataframe\">\n",
       "  <thead>\n",
       "    <tr style=\"text-align: right;\">\n",
       "      <th></th>\n",
       "      <th>id</th>\n",
       "      <th>producto</th>\n",
       "      <th>precio (€)</th>\n",
       "      <th>descuento (%)</th>\n",
       "      <th>color</th>\n",
       "      <th>pais_origen</th>\n",
       "      <th>temporada2025</th>\n",
       "      <th>ventas_unidad</th>\n",
       "      <th>inventario</th>\n",
       "      <th>marca</th>\n",
       "      <th>estacion</th>\n",
       "    </tr>\n",
       "  </thead>\n",
       "  <tbody>\n",
       "    <tr>\n",
       "      <th>NaN</th>\n",
       "      <td>1</td>\n",
       "      <td>Camiseta Fresh Breeze</td>\n",
       "      <td>23.75</td>\n",
       "      <td>10</td>\n",
       "      <td>azul</td>\n",
       "      <td>ES</td>\n",
       "      <td>Yes</td>\n",
       "      <td>34</td>\n",
       "      <td>213</td>\n",
       "      <td>A</td>\n",
       "      <td>2</td>\n",
       "    </tr>\n",
       "    <tr>\n",
       "      <th>NaN</th>\n",
       "      <td>2</td>\n",
       "      <td>Polo Urban Fit</td>\n",
       "      <td>45.6</td>\n",
       "      <td>15</td>\n",
       "      <td>rojo</td>\n",
       "      <td>IT</td>\n",
       "      <td>No</td>\n",
       "      <td>15</td>\n",
       "      <td>45</td>\n",
       "      <td>B</td>\n",
       "      <td>2</td>\n",
       "    </tr>\n",
       "    <tr>\n",
       "      <th>NaN</th>\n",
       "      <td>3</td>\n",
       "      <td>Blusa Soft Elegance</td>\n",
       "      <td>78.5</td>\n",
       "      <td>20</td>\n",
       "      <td>NaN</td>\n",
       "      <td>FR</td>\n",
       "      <td>No</td>\n",
       "      <td>12</td>\n",
       "      <td>3</td>\n",
       "      <td>C</td>\n",
       "      <td>3</td>\n",
       "    </tr>\n",
       "    <tr>\n",
       "      <th>NaN</th>\n",
       "      <td>4</td>\n",
       "      <td>Camisa Denim Classic</td>\n",
       "      <td>12.3</td>\n",
       "      <td>5</td>\n",
       "      <td>verde</td>\n",
       "      <td>PR</td>\n",
       "      <td>Si</td>\n",
       "      <td>78</td>\n",
       "      <td>534</td>\n",
       "      <td>D</td>\n",
       "      <td>2</td>\n",
       "    </tr>\n",
       "    <tr>\n",
       "      <th>NaN</th>\n",
       "      <td>5</td>\n",
       "      <td>Crop Top Sunset Glow</td>\n",
       "      <td>41.4</td>\n",
       "      <td>5</td>\n",
       "      <td>nergo</td>\n",
       "      <td>AL</td>\n",
       "      <td>No</td>\n",
       "      <td>65</td>\n",
       "      <td>NaN</td>\n",
       "      <td>A</td>\n",
       "      <td>3</td>\n",
       "    </tr>\n",
       "  </tbody>\n",
       "</table>\n",
       "</div>"
      ],
      "text/plain": [
       "    id               producto precio (€) descuento (%)  color pais_origen  \\\n",
       "NaN  1  Camiseta Fresh Breeze      23.75            10   azul          ES   \n",
       "NaN  2         Polo Urban Fit       45.6            15   rojo          IT   \n",
       "NaN  3    Blusa Soft Elegance       78.5            20    NaN          FR   \n",
       "NaN  4   Camisa Denim Classic       12.3             5  verde          PR   \n",
       "NaN  5   Crop Top Sunset Glow       41.4             5  nergo          AL   \n",
       "\n",
       "    temporada2025 ventas_unidad inventario marca estacion  \n",
       "NaN           Yes            34        213     A        2  \n",
       "NaN            No            15         45     B        2  \n",
       "NaN            No            12          3     C        3  \n",
       "NaN            Si            78        534     D        2  \n",
       "NaN            No            65        NaN     A        3  "
      ]
     },
     "execution_count": 32,
     "metadata": {},
     "output_type": "execute_result"
    }
   ],
   "source": [
    "# cargamos el dataframe creado:\n",
    "df_excel = pd.read_excel(\"C:/Users/isaw9/OneDrive/Escritorio/ADALAB/Modulo_3/files/New_clothesforyou.xlsx\", index_col = 0)\n",
    "df_excel.head()"
   ]
  },
  {
   "cell_type": "code",
   "execution_count": null,
   "metadata": {},
   "outputs": [],
   "source": [
    "# Estructura de limpieza de datos:\n",
    "\n",
    "# - Estudio de mis datos: Saber que datos son, a que corresponden, columnas...\n",
    "# - Finalidad y preguntas del estudio.\n",
    "# - Limpieza de datos adecuada a la finalidad, con criterio y justificaciones de cambios."
   ]
  },
  {
   "cell_type": "code",
   "execution_count": 33,
   "metadata": {},
   "outputs": [
    {
     "name": "stdout",
     "output_type": "stream",
     "text": [
      "<class 'pandas.core.frame.DataFrame'>\n",
      "Index: 115 entries, nan to nan\n",
      "Data columns (total 11 columns):\n",
      " #   Column         Non-Null Count  Dtype \n",
      "---  ------         --------------  ----- \n",
      " 0   id             114 non-null    object\n",
      " 1   producto       115 non-null    object\n",
      " 2   precio (€)     110 non-null    object\n",
      " 3   descuento (%)  110 non-null    object\n",
      " 4   color          103 non-null    object\n",
      " 5   pais_origen    107 non-null    object\n",
      " 6   temporada2025  104 non-null    object\n",
      " 7   ventas_unidad  109 non-null    object\n",
      " 8   inventario     99 non-null     object\n",
      " 9   marca          102 non-null    object\n",
      " 10  estacion       95 non-null     object\n",
      "dtypes: object(11)\n",
      "memory usage: 10.8+ KB\n"
     ]
    }
   ],
   "source": [
    "df_excel.info()"
   ]
  },
  {
   "cell_type": "code",
   "execution_count": 34,
   "metadata": {},
   "outputs": [
    {
     "data": {
      "text/plain": [
       "Index(['id', 'producto', 'precio (€)', 'descuento (%)', 'color', 'pais_origen',\n",
       "       'temporada2025', 'ventas_unidad', 'inventario', 'marca', 'estacion'],\n",
       "      dtype='object')"
      ]
     },
     "execution_count": 34,
     "metadata": {},
     "output_type": "execute_result"
    }
   ],
   "source": [
    "# Tengo un dataframe de una tienda de ropa, que recoge diferentes datos de cada prenda. \n",
    "# Tenemos estas columnas:\n",
    "\n",
    "df_excel.columns"
   ]
  },
  {
   "cell_type": "code",
   "execution_count": null,
   "metadata": {},
   "outputs": [],
   "source": [
    "# todas de tipo objeto, por lo que las columnas numéricas no categóricas, convendrá convertirlas a int/float llegado el momento."
   ]
  },
  {
   "cell_type": "code",
   "execution_count": 35,
   "metadata": {},
   "outputs": [
    {
     "data": {
      "text/plain": [
       "id               113\n",
       "producto         100\n",
       "precio (€)        79\n",
       "descuento (%)     12\n",
       "color             10\n",
       "pais_origen        8\n",
       "temporada2025      7\n",
       "ventas_unidad     29\n",
       "inventario        48\n",
       "marca             13\n",
       "estacion           9\n",
       "dtype: int64"
      ]
     },
     "execution_count": 35,
     "metadata": {},
     "output_type": "execute_result"
    }
   ],
   "source": [
    "# Haciendo una valoraicón de calores únicos:\n",
    "\n",
    "df_excel.nunique()"
   ]
  },
  {
   "cell_type": "code",
   "execution_count": null,
   "metadata": {},
   "outputs": [],
   "source": [
    "# OBJETIVOS DEL ESTUDIO\n",
    "\n",
    "# 1.-Conocer el valor de ventas totales que se ha obtenido (sin descuento)\n",
    "# 2.-Saber que artículos no son de temporada, y cuanto se obtuvo (€) por ellos\n",
    "# 3.-Calcular porcentaje de prendas por estación ¿en qué estación se vende más?\n",
    "# 4.-Artículos con la palabra cozy en el nombre\n",
    "# 5.-Calcular nueva columna con el descuento aplicado, y valorar la diferencia de ganancias respecto al artículo sin descuento\n",
    "# 6.-Mayor país proveedor, e ingresos por país, tenemos que disolver el contrato con el país con menores ingresos.\n",
    "# 7.-¿Cuál es el color favorito de la temporada? ¿y del invierno?\n",
    "# 8.-Marca con mayores ventas --> Para enviar detalle por parte de la empresa\n",
    "# 9.-Hacer una relación de ventas e inventario, para eliminar 14 prendas de nuestro stock.\n",
    "# 10.- Elaborar un informe final."
   ]
  },
  {
   "cell_type": "code",
   "execution_count": 36,
   "metadata": {},
   "outputs": [
    {
     "name": "stdout",
     "output_type": "stream",
     "text": [
      "El número de filas que tenemos es 115, y el número de columnas es 11\n"
     ]
    }
   ],
   "source": [
    "print(f\"El número de filas que tenemos es {df_excel.shape[0]}, y el número de columnas es {df_excel.shape[1]}\")"
   ]
  },
  {
   "cell_type": "code",
   "execution_count": 37,
   "metadata": {},
   "outputs": [
    {
     "name": "stdout",
     "output_type": "stream",
     "text": [
      "<class 'pandas.core.frame.DataFrame'>\n",
      "Index: 115 entries, nan to nan\n",
      "Data columns (total 11 columns):\n",
      " #   Column         Non-Null Count  Dtype \n",
      "---  ------         --------------  ----- \n",
      " 0   id             114 non-null    object\n",
      " 1   producto       115 non-null    object\n",
      " 2   precio (€)     110 non-null    object\n",
      " 3   descuento (%)  110 non-null    object\n",
      " 4   color          103 non-null    object\n",
      " 5   pais_origen    107 non-null    object\n",
      " 6   temporada2025  104 non-null    object\n",
      " 7   ventas_unidad  109 non-null    object\n",
      " 8   inventario     99 non-null     object\n",
      " 9   marca          102 non-null    object\n",
      " 10  estacion       95 non-null     object\n",
      "dtypes: object(11)\n",
      "memory usage: 10.8+ KB\n"
     ]
    }
   ],
   "source": [
    "# Conociendo los objetivos del estudio, lo primero que habrá que hacer es una limpieza de nuestros datos:\n",
    "\n",
    "df_excel.info()"
   ]
  },
  {
   "cell_type": "code",
   "execution_count": 38,
   "metadata": {},
   "outputs": [
    {
     "name": "stdout",
     "output_type": "stream",
     "text": [
      "Las columnas categóricas que tienen nulos son : \n",
      " \n",
      "Index(['id', 'precio (€)', 'descuento (%)', 'color', 'pais_origen',\n",
      "       'temporada2025', 'ventas_unidad', 'inventario', 'marca', 'estacion'],\n",
      "      dtype='object')\n"
     ]
    }
   ],
   "source": [
    "# Obtenemos la lista de columnas categóricas que tienen nulos\n",
    "nulos_esta_cat = df_excel[df_excel.columns[df_excel.isnull().any()]].select_dtypes(include = \"O\").columns\n",
    "print(\"Las columnas categóricas que tienen nulos son : \\n \")\n",
    "print(nulos_esta_cat)"
   ]
  },
  {
   "cell_type": "code",
   "execution_count": 39,
   "metadata": {},
   "outputs": [
    {
     "data": {
      "text/html": [
       "<div>\n",
       "<style scoped>\n",
       "    .dataframe tbody tr th:only-of-type {\n",
       "        vertical-align: middle;\n",
       "    }\n",
       "\n",
       "    .dataframe tbody tr th {\n",
       "        vertical-align: top;\n",
       "    }\n",
       "\n",
       "    .dataframe thead th {\n",
       "        text-align: right;\n",
       "    }\n",
       "</style>\n",
       "<table border=\"1\" class=\"dataframe\">\n",
       "  <thead>\n",
       "    <tr style=\"text-align: right;\">\n",
       "      <th></th>\n",
       "      <th>count</th>\n",
       "      <th>unique</th>\n",
       "      <th>top</th>\n",
       "      <th>freq</th>\n",
       "    </tr>\n",
       "  </thead>\n",
       "  <tbody>\n",
       "    <tr>\n",
       "      <th>id</th>\n",
       "      <td>114</td>\n",
       "      <td>113</td>\n",
       "      <td>2</td>\n",
       "      <td>2</td>\n",
       "    </tr>\n",
       "    <tr>\n",
       "      <th>producto</th>\n",
       "      <td>115</td>\n",
       "      <td>100</td>\n",
       "      <td>Polo Urban Fit</td>\n",
       "      <td>2</td>\n",
       "    </tr>\n",
       "    <tr>\n",
       "      <th>precio (€)</th>\n",
       "      <td>110</td>\n",
       "      <td>79</td>\n",
       "      <td>20</td>\n",
       "      <td>4</td>\n",
       "    </tr>\n",
       "    <tr>\n",
       "      <th>descuento (%)</th>\n",
       "      <td>110</td>\n",
       "      <td>12</td>\n",
       "      <td>5</td>\n",
       "      <td>23</td>\n",
       "    </tr>\n",
       "    <tr>\n",
       "      <th>color</th>\n",
       "      <td>103</td>\n",
       "      <td>10</td>\n",
       "      <td>azul</td>\n",
       "      <td>19</td>\n",
       "    </tr>\n",
       "    <tr>\n",
       "      <th>pais_origen</th>\n",
       "      <td>107</td>\n",
       "      <td>8</td>\n",
       "      <td>ES</td>\n",
       "      <td>30</td>\n",
       "    </tr>\n",
       "    <tr>\n",
       "      <th>temporada2025</th>\n",
       "      <td>104</td>\n",
       "      <td>7</td>\n",
       "      <td>No</td>\n",
       "      <td>36</td>\n",
       "    </tr>\n",
       "    <tr>\n",
       "      <th>ventas_unidad</th>\n",
       "      <td>109</td>\n",
       "      <td>29</td>\n",
       "      <td>21</td>\n",
       "      <td>7</td>\n",
       "    </tr>\n",
       "    <tr>\n",
       "      <th>inventario</th>\n",
       "      <td>99</td>\n",
       "      <td>48</td>\n",
       "      <td>45</td>\n",
       "      <td>7</td>\n",
       "    </tr>\n",
       "    <tr>\n",
       "      <th>marca</th>\n",
       "      <td>102</td>\n",
       "      <td>13</td>\n",
       "      <td>D</td>\n",
       "      <td>30</td>\n",
       "    </tr>\n",
       "    <tr>\n",
       "      <th>estacion</th>\n",
       "      <td>95</td>\n",
       "      <td>9</td>\n",
       "      <td>1</td>\n",
       "      <td>28</td>\n",
       "    </tr>\n",
       "  </tbody>\n",
       "</table>\n",
       "</div>"
      ],
      "text/plain": [
       "              count unique             top freq\n",
       "id              114    113               2    2\n",
       "producto        115    100  Polo Urban Fit    2\n",
       "precio (€)      110     79              20    4\n",
       "descuento (%)   110     12               5   23\n",
       "color           103     10            azul   19\n",
       "pais_origen     107      8              ES   30\n",
       "temporada2025   104      7              No   36\n",
       "ventas_unidad   109     29              21    7\n",
       "inventario       99     48              45    7\n",
       "marca           102     13               D   30\n",
       "estacion         95      9               1   28"
      ]
     },
     "execution_count": 39,
     "metadata": {},
     "output_type": "execute_result"
    }
   ],
   "source": [
    "df_excel.describe(include = \"object\").T"
   ]
  },
  {
   "cell_type": "code",
   "execution_count": null,
   "metadata": {},
   "outputs": [
    {
     "data": {
      "text/plain": [
       "np.int64(0)"
      ]
     },
     "execution_count": 40,
     "metadata": {},
     "output_type": "execute_result"
    }
   ],
   "source": [
    "# como hemos visto lo anterior nos devuelve una serie de booleanos lo cual es poco entendible, \n",
    "# por lo que añadiremos el método '.sum()' para que nos cuente cuantas filas tenemos duplicadas\n",
    "# en este caso el código nos esta diciendo que no tenemos filas duplicadas\n",
    "\n",
    "df_excel.duplicated().sum() # No tenemos valores duplicados(PERO OJO EL id 2 está repetido.)"
   ]
  },
  {
   "cell_type": "code",
   "execution_count": null,
   "metadata": {},
   "outputs": [],
   "source": [
    "# id: Serie de números enteros sin alteración. Tipo objeto --> convertir a int (aunque no necesario, es un identificador) "
   ]
  },
  {
   "cell_type": "code",
   "execution_count": 41,
   "metadata": {},
   "outputs": [
    {
     "data": {
      "text/plain": [
       "100"
      ]
     },
     "execution_count": 41,
     "metadata": {},
     "output_type": "execute_result"
    }
   ],
   "source": [
    "# producto: Todo bien, un str.\n",
    "\n",
    "df_excel[\"producto\"].nunique() # cuenta el número de valores únicos en la columna \"producto\"\n",
    "\n",
    "# Hay prendas con el mismo nombre, de momento no sabemos si datos repetidos, o quizás tienen diferentes características"
   ]
  },
  {
   "cell_type": "code",
   "execution_count": null,
   "metadata": {},
   "outputs": [],
   "source": [
    "# precio (€):"
   ]
  }
 ],
 "metadata": {
  "kernelspec": {
   "display_name": "Python 3",
   "language": "python",
   "name": "python3"
  },
  "language_info": {
   "codemirror_mode": {
    "name": "ipython",
    "version": 3
   },
   "file_extension": ".py",
   "mimetype": "text/x-python",
   "name": "python",
   "nbconvert_exporter": "python",
   "pygments_lexer": "ipython3",
   "version": "3.12.7"
  }
 },
 "nbformat": 4,
 "nbformat_minor": 2
}
